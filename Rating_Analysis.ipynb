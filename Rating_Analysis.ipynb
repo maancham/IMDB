{
 "cells": [
  {
   "cell_type": "code",
   "execution_count": 1,
   "metadata": {
    "colab": {
     "base_uri": "https://localhost:8080/"
    },
    "id": "ymsmTx6J01iD",
    "outputId": "5f4c014a-c45b-47d5-ca90-1fdc77db4257"
   },
   "outputs": [],
   "source": [
    "import numpy as np \n",
    "import pandas as pd\n",
    "import heapq\n",
    "import warnings\n",
    "from pandas.core.common import SettingWithCopyWarning\n",
    "import matplotlib.pyplot as plt\n",
    "import seaborn as sns\n",
    "from collections import Counter\n",
    "import sklearn\n",
    "from sklearn.cluster import KMeans\n",
    "import random\n",
    "from sklearn.model_selection import train_test_split\n",
    "from sklearn import metrics\n",
    "from sklearn.feature_selection import chi2\n",
    "from sklearn.ensemble import ExtraTreesClassifier\n",
    "from sklearn.preprocessing import StandardScaler, MinMaxScaler, MaxAbsScaler, QuantileTransformer\n",
    "from scipy import spatial\n",
    "\n",
    "\n",
    "import tensorflow as tf\n",
    "import tensorflow_hub as hub\n",
    "# module_url = \"https://tfhub.dev/google/universal-sentence-encoder/4\"\n",
    "# model = hub.load(module_url)\n",
    "# def embed(input):\n",
    "#   return model(input)\n",
    "\n",
    "# nltk.download('punkt')\n",
    "# nltk.download('stopwords')\n",
    "\n",
    "import sklearn\n",
    "from sklearn.ensemble import RandomForestRegressor\n",
    "from sklearn import metrics\n",
    "from sklearn.model_selection import cross_val_predict\n",
    "from sklearn.model_selection import cross_val_score\n",
    "from sklearn.model_selection import cross_validate\n",
    "from sklearn.model_selection import train_test_split\n",
    "from sklearn.model_selection import RandomizedSearchCV\n",
    "from sklearn.model_selection import GridSearchCV\n",
    "from sklearn.linear_model import LinearRegression\n",
    "from sklearn.preprocessing import RobustScaler\n",
    "from pprint import pprint\n",
    "\n",
    "warnings.simplefilter(action=\"ignore\", category=SettingWithCopyWarning)\n",
    "sns.set_style(\"darkgrid\")\n",
    "# from google.colab import drive\n",
    "# drive.mount('/content/drive')"
   ]
  },
  {
   "cell_type": "markdown",
   "metadata": {
    "id": "iQzOi2IBiVqu"
   },
   "source": [
    "## Loading datasets:\n",
    "In order to minimize cultural differences, only movies that **USA** has been on of their production countries have been chosen. Also, all movies without a box office record (**usa gross** or domestic gross) have been droped.\n",
    "Lastly, only movies **after 1990** have been considered for this task"
   ]
  },
  {
   "cell_type": "code",
   "execution_count": 2,
   "metadata": {
    "id": "uMBxrI5OiapM"
   },
   "outputs": [],
   "source": [
    "movie_df = pd.read_csv('imdb_movies.csv', low_memory=False)\n",
    "rating_df = pd.read_csv('imdb_ratings.csv')\n",
    "movie_df = movie_df[movie_df['country'].str.contains('USA')]\n",
    "movie_df = movie_df[movie_df.u_gross_money.notnull()]\n",
    "movie_df = movie_df[movie_df['title_year'] >= 1990]\n",
    "movie_df.set_index('movie_id', inplace=True)"
   ]
  },
  {
   "cell_type": "code",
   "execution_count": 3,
   "metadata": {
    "colab": {
     "base_uri": "https://localhost:8080/"
    },
    "id": "6yzeYmmfDMZQ",
    "outputId": "ab0795e3-3e3c-4e79-8b91-d8655a3f4852"
   },
   "outputs": [
    {
     "data": {
      "text/plain": [
       "10231"
      ]
     },
     "execution_count": 3,
     "metadata": {},
     "output_type": "execute_result"
    }
   ],
   "source": [
    "len(movie_df)"
   ]
  },
  {
   "cell_type": "markdown",
   "metadata": {
    "id": "UckBr4IPjHQF"
   },
   "source": [
    "## Feature engineering:"
   ]
  },
  {
   "cell_type": "markdown",
   "metadata": {
    "id": "IQLHOXlkjMXF"
   },
   "source": [
    "#### Checking available columns and removing unnecessary ones:"
   ]
  },
  {
   "cell_type": "code",
   "execution_count": 4,
   "metadata": {
    "colab": {
     "base_uri": "https://localhost:8080/"
    },
    "id": "l7de193zjItd",
    "outputId": "a3378dd8-c2f0-4aa8-a046-36c43a8ce3ed"
   },
   "outputs": [
    {
     "data": {
      "text/plain": [
       "Index(['name', 'org_name', 'date', 'title_year', 'point', 'point_volume',\n",
       "       'metascore', 'user_reviews', 'critic_reviews', 'director', 'writer',\n",
       "       'story_line', 'cast', 'genres', 'country', 'language', 'budget',\n",
       "       'world_gross', 'usa_gross', 'runtime', 'production_companies',\n",
       "       'dollar_budget', 'w_gross_money', 'u_gross_money', 'inflation_coeff',\n",
       "       'casts_id', 'BlogPage', 'CompPage', 'HomePage', 'release_month',\n",
       "       'release_day', 'keywords'],\n",
       "      dtype='object')"
      ]
     },
     "execution_count": 4,
     "metadata": {},
     "output_type": "execute_result"
    }
   ],
   "source": [
    "movie_df.columns"
   ]
  },
  {
   "cell_type": "markdown",
   "metadata": {
    "id": "M2Ok6-CAjTl7"
   },
   "source": [
    "We will not be needing **name**, **original name**, **date of release** (since we have year, month and day of release as separate columns), **point_volume**, **metascore**, **budget** (we have dollar_budget column). **World gross** , **usa gross** and their corresponding **w_gross_money** and **u_gross_money** should also be dropped since there's no real value in a algorithm that needs to know movie gross in order to predict it's rating.\n",
    "\n",
    "**We will use keywords and storyline for Text similary predictor!**"
   ]
  },
  {
   "cell_type": "code",
   "execution_count": 5,
   "metadata": {
    "colab": {
     "base_uri": "https://localhost:8080/",
     "height": 582
    },
    "id": "E69R1xFgjY_O",
    "outputId": "0200cd89-a74b-4e57-b941-747aa2e77147"
   },
   "outputs": [
    {
     "data": {
      "text/html": [
       "<div>\n",
       "<style scoped>\n",
       "    .dataframe tbody tr th:only-of-type {\n",
       "        vertical-align: middle;\n",
       "    }\n",
       "\n",
       "    .dataframe tbody tr th {\n",
       "        vertical-align: top;\n",
       "    }\n",
       "\n",
       "    .dataframe thead th {\n",
       "        text-align: right;\n",
       "    }\n",
       "</style>\n",
       "<table border=\"1\" class=\"dataframe\">\n",
       "  <thead>\n",
       "    <tr style=\"text-align: right;\">\n",
       "      <th></th>\n",
       "      <th>title_year</th>\n",
       "      <th>point</th>\n",
       "      <th>director</th>\n",
       "      <th>writer</th>\n",
       "      <th>story_line</th>\n",
       "      <th>cast</th>\n",
       "      <th>genres</th>\n",
       "      <th>country</th>\n",
       "      <th>language</th>\n",
       "      <th>runtime</th>\n",
       "      <th>production_companies</th>\n",
       "      <th>dollar_budget</th>\n",
       "      <th>inflation_coeff</th>\n",
       "      <th>BlogPage</th>\n",
       "      <th>CompPage</th>\n",
       "      <th>HomePage</th>\n",
       "      <th>release_month</th>\n",
       "      <th>release_day</th>\n",
       "      <th>keywords</th>\n",
       "    </tr>\n",
       "    <tr>\n",
       "      <th>movie_id</th>\n",
       "      <th></th>\n",
       "      <th></th>\n",
       "      <th></th>\n",
       "      <th></th>\n",
       "      <th></th>\n",
       "      <th></th>\n",
       "      <th></th>\n",
       "      <th></th>\n",
       "      <th></th>\n",
       "      <th></th>\n",
       "      <th></th>\n",
       "      <th></th>\n",
       "      <th></th>\n",
       "      <th></th>\n",
       "      <th></th>\n",
       "      <th></th>\n",
       "      <th></th>\n",
       "      <th></th>\n",
       "      <th></th>\n",
       "    </tr>\n",
       "  </thead>\n",
       "  <tbody>\n",
       "    <tr>\n",
       "      <th>tt0035423</th>\n",
       "      <td>2001.0</td>\n",
       "      <td>6.4</td>\n",
       "      <td>James Mangold</td>\n",
       "      <td>Steven Rogers,James Mangold</td>\n",
       "      <td>Kate and her actor brother live in N.Y. in the...</td>\n",
       "      <td>Meg Ryan,Liev Schreiber,Natasha Lyonne,Paxton ...</td>\n",
       "      <td>Comedy,Fantasy,Romance</td>\n",
       "      <td>USA</td>\n",
       "      <td>English</td>\n",
       "      <td>118.0</td>\n",
       "      <td>Konrad Pictures,Miramax</td>\n",
       "      <td>48000000.0</td>\n",
       "      <td>1.470013</td>\n",
       "      <td>0</td>\n",
       "      <td>0</td>\n",
       "      <td>0</td>\n",
       "      <td>12.0</td>\n",
       "      <td>25.0</td>\n",
       "      <td>time-travel,brooklyn-bridge,bridge,time-travel...</td>\n",
       "    </tr>\n",
       "    <tr>\n",
       "      <th>tt0081145</th>\n",
       "      <td>1993.0</td>\n",
       "      <td>5.4</td>\n",
       "      <td>Dan Curtis</td>\n",
       "      <td>Stanley Cohen,Richard Tannenbaum</td>\n",
       "      <td>Two ex-cons, Harry (Aiello) and Roy (Pantolian...</td>\n",
       "      <td>Danny Aiello,Joe Pantoliano,David Dukes,Rick A...</td>\n",
       "      <td>Comedy,Crime,Drama,Family</td>\n",
       "      <td>USA</td>\n",
       "      <td>English</td>\n",
       "      <td>NaN</td>\n",
       "      <td>Dan Curtis Productions</td>\n",
       "      <td>NaN</td>\n",
       "      <td>1.800164</td>\n",
       "      <td>0</td>\n",
       "      <td>0</td>\n",
       "      <td>0</td>\n",
       "      <td>10.0</td>\n",
       "      <td>22.0</td>\n",
       "      <td>kidnapper-kidnapped-relationship,family-relati...</td>\n",
       "    </tr>\n",
       "    <tr>\n",
       "      <th>tt0097115</th>\n",
       "      <td>1990.0</td>\n",
       "      <td>5.7</td>\n",
       "      <td>Christopher Leitch</td>\n",
       "      <td>Fred Brogger,Mark Brogger</td>\n",
       "      <td>In this version of \"Heidi,\" a young Swiss girl...</td>\n",
       "      <td>Juliette Caton,Nicola Stapleton,Kathryn Ludlow...</td>\n",
       "      <td>Adventure,Drama,Family,War</td>\n",
       "      <td>USA,France</td>\n",
       "      <td>English</td>\n",
       "      <td>NaN</td>\n",
       "      <td>Epic Productions,Stone Group Pictures</td>\n",
       "      <td>NaN</td>\n",
       "      <td>1.992922</td>\n",
       "      <td>0</td>\n",
       "      <td>0</td>\n",
       "      <td>0</td>\n",
       "      <td>2.0</td>\n",
       "      <td>16.0</td>\n",
       "      <td>record-player,mountain-climbing,carriage,homes...</td>\n",
       "    </tr>\n",
       "    <tr>\n",
       "      <th>tt0098375</th>\n",
       "      <td>1990.0</td>\n",
       "      <td>4.8</td>\n",
       "      <td>Tobe Hooper</td>\n",
       "      <td>Tobe Hooper,Tobe Hooper</td>\n",
       "      <td>A young man finds out that his parents had bee...</td>\n",
       "      <td>Brad Dourif,Jon Cypher,Melinda Dillon,Tegan We...</td>\n",
       "      <td>Horror,Sci-Fi,Thriller</td>\n",
       "      <td>USA</td>\n",
       "      <td>English</td>\n",
       "      <td>97.0</td>\n",
       "      <td>Black Owl Productions,Project Samson,Skyland S...</td>\n",
       "      <td>5500000.0</td>\n",
       "      <td>1.992922</td>\n",
       "      <td>0</td>\n",
       "      <td>0</td>\n",
       "      <td>0</td>\n",
       "      <td>2.0</td>\n",
       "      <td>23.0</td>\n",
       "      <td>experiment-gone-wrong,human-experiment,science...</td>\n",
       "    </tr>\n",
       "    <tr>\n",
       "      <th>tt0098966</th>\n",
       "      <td>1990.0</td>\n",
       "      <td>5.5</td>\n",
       "      <td>Emile Ardolino</td>\n",
       "      <td>Coline Serreau,Sara Parriott</td>\n",
       "      <td>Five happy years after baby Mary's arrival in</td>\n",
       "      <td>Tom Selleck,Ted Danson,Robin Weisman,Sheila Ha...</td>\n",
       "      <td>Comedy,Drama,Family,Romance</td>\n",
       "      <td>USA</td>\n",
       "      <td>English</td>\n",
       "      <td>104.0</td>\n",
       "      <td>Touchstone Pictures,Interscope Communications,...</td>\n",
       "      <td>NaN</td>\n",
       "      <td>1.992922</td>\n",
       "      <td>0</td>\n",
       "      <td>0</td>\n",
       "      <td>0</td>\n",
       "      <td>11.0</td>\n",
       "      <td>21.0</td>\n",
       "      <td>sequel-to-remake,second-part,sequel,girl,numbe...</td>\n",
       "    </tr>\n",
       "  </tbody>\n",
       "</table>\n",
       "</div>"
      ],
      "text/plain": [
       "           title_year  point            director  \\\n",
       "movie_id                                           \n",
       "tt0035423      2001.0    6.4       James Mangold   \n",
       "tt0081145      1993.0    5.4          Dan Curtis   \n",
       "tt0097115      1990.0    5.7  Christopher Leitch   \n",
       "tt0098375      1990.0    4.8         Tobe Hooper   \n",
       "tt0098966      1990.0    5.5      Emile Ardolino   \n",
       "\n",
       "                                     writer  \\\n",
       "movie_id                                      \n",
       "tt0035423       Steven Rogers,James Mangold   \n",
       "tt0081145  Stanley Cohen,Richard Tannenbaum   \n",
       "tt0097115         Fred Brogger,Mark Brogger   \n",
       "tt0098375           Tobe Hooper,Tobe Hooper   \n",
       "tt0098966      Coline Serreau,Sara Parriott   \n",
       "\n",
       "                                                  story_line  \\\n",
       "movie_id                                                       \n",
       "tt0035423  Kate and her actor brother live in N.Y. in the...   \n",
       "tt0081145  Two ex-cons, Harry (Aiello) and Roy (Pantolian...   \n",
       "tt0097115  In this version of \"Heidi,\" a young Swiss girl...   \n",
       "tt0098375  A young man finds out that his parents had bee...   \n",
       "tt0098966     Five happy years after baby Mary's arrival in    \n",
       "\n",
       "                                                        cast  \\\n",
       "movie_id                                                       \n",
       "tt0035423  Meg Ryan,Liev Schreiber,Natasha Lyonne,Paxton ...   \n",
       "tt0081145  Danny Aiello,Joe Pantoliano,David Dukes,Rick A...   \n",
       "tt0097115  Juliette Caton,Nicola Stapleton,Kathryn Ludlow...   \n",
       "tt0098375  Brad Dourif,Jon Cypher,Melinda Dillon,Tegan We...   \n",
       "tt0098966  Tom Selleck,Ted Danson,Robin Weisman,Sheila Ha...   \n",
       "\n",
       "                                genres     country language  runtime  \\\n",
       "movie_id                                                               \n",
       "tt0035423       Comedy,Fantasy,Romance         USA  English    118.0   \n",
       "tt0081145    Comedy,Crime,Drama,Family         USA  English      NaN   \n",
       "tt0097115   Adventure,Drama,Family,War  USA,France  English      NaN   \n",
       "tt0098375       Horror,Sci-Fi,Thriller         USA  English     97.0   \n",
       "tt0098966  Comedy,Drama,Family,Romance         USA  English    104.0   \n",
       "\n",
       "                                        production_companies  dollar_budget  \\\n",
       "movie_id                                                                      \n",
       "tt0035423                            Konrad Pictures,Miramax     48000000.0   \n",
       "tt0081145                             Dan Curtis Productions            NaN   \n",
       "tt0097115              Epic Productions,Stone Group Pictures            NaN   \n",
       "tt0098375  Black Owl Productions,Project Samson,Skyland S...      5500000.0   \n",
       "tt0098966  Touchstone Pictures,Interscope Communications,...            NaN   \n",
       "\n",
       "           inflation_coeff  BlogPage  CompPage  HomePage  release_month  \\\n",
       "movie_id                                                                  \n",
       "tt0035423         1.470013         0         0         0           12.0   \n",
       "tt0081145         1.800164         0         0         0           10.0   \n",
       "tt0097115         1.992922         0         0         0            2.0   \n",
       "tt0098375         1.992922         0         0         0            2.0   \n",
       "tt0098966         1.992922         0         0         0           11.0   \n",
       "\n",
       "           release_day                                           keywords  \n",
       "movie_id                                                                   \n",
       "tt0035423         25.0  time-travel,brooklyn-bridge,bridge,time-travel...  \n",
       "tt0081145         22.0  kidnapper-kidnapped-relationship,family-relati...  \n",
       "tt0097115         16.0  record-player,mountain-climbing,carriage,homes...  \n",
       "tt0098375         23.0  experiment-gone-wrong,human-experiment,science...  \n",
       "tt0098966         21.0  sequel-to-remake,second-part,sequel,girl,numbe...  "
      ]
     },
     "execution_count": 5,
     "metadata": {},
     "output_type": "execute_result"
    }
   ],
   "source": [
    "movie_df.drop(['name', 'org_name', 'budget', 'world_gross', 'usa_gross', 'date', 'user_reviews', 'critic_reviews',\n",
    "              'w_gross_money', 'u_gross_money', 'metascore', 'point_volume', 'casts_id'], axis = 1, inplace=True)\n",
    "movie_df.head()"
   ]
  },
  {
   "cell_type": "markdown",
   "metadata": {
    "id": "DaKMgfu5j-2w"
   },
   "source": [
    "#### Adding inflation to budget and scaling:"
   ]
  },
  {
   "cell_type": "markdown",
   "metadata": {
    "id": "8Y3a4YfxkS0x"
   },
   "source": [
    "Also, we should multiply dollar_budget and inflation_coeff and save the result as dolla_budget. If we ignore this part, we are ignoring the fact that 1 dollar in the 20's is equal to about 14 dollars now. Next, we will normalize budget values with a simple standard scaler. This action will be of aid in predicting ratings and reducing noise."
   ]
  },
  {
   "cell_type": "code",
   "execution_count": 6,
   "metadata": {
    "id": "IKD0UnItkB5j"
   },
   "outputs": [],
   "source": [
    "standard_scaler = StandardScaler()\n",
    "min_max_scaler = MinMaxScaler()\n",
    "movie_df['dollar_budget'] = movie_df['dollar_budget'] * movie_df['inflation_coeff']\n",
    "movie_df['dollar_budget'] = min_max_scaler.fit_transform(movie_df[['dollar_budget']])\n",
    "movie_df.drop(['inflation_coeff'], axis = 1, inplace=True)"
   ]
  },
  {
   "cell_type": "markdown",
   "metadata": {
    "id": "lBRomofjjgNY"
   },
   "source": [
    "#### Looking for NaN values:\n"
   ]
  },
  {
   "cell_type": "code",
   "execution_count": 7,
   "metadata": {
    "colab": {
     "base_uri": "https://localhost:8080/"
    },
    "id": "0_lIRoQbjigj",
    "outputId": "dc18d7a8-4b2f-462f-c812-0e722d4a094c"
   },
   "outputs": [
    {
     "data": {
      "text/plain": [
       "Index(['point', 'runtime', 'dollar_budget'], dtype='object')"
      ]
     },
     "execution_count": 7,
     "metadata": {},
     "output_type": "execute_result"
    }
   ],
   "source": [
    "movie_df.loc[:, movie_df.isna().any()].columns"
   ]
  },
  {
   "cell_type": "code",
   "execution_count": 8,
   "metadata": {
    "id": "q-so0a5rjpj7"
   },
   "outputs": [],
   "source": [
    "## drop movies withiout point or dollar_budget values:\n",
    "movie_df.dropna(subset= ['point', 'dollar_budget'], how='any', inplace=True)\n",
    "\n",
    "## fillna runtime based on main genre and mean of all other movies:\n",
    "drama_runtime_mean = movie_df[movie_df['genres'] == 'Drama'].runtime.mean()\n",
    "doc_runtime_mean = movie_df[movie_df['genres'] == 'Documentary'].runtime.mean()\n",
    "comedy_runtime_mean = movie_df[movie_df['genres'] == 'Comedy'].runtime.mean()\n",
    "horror_runtime_mean = movie_df[movie_df['genres'] == 'Horror'].runtime.mean()\n",
    "movie_df['runtime'] = np.where(movie_df['genres'] == 'Drama', drama_runtime_mean, movie_df['runtime'])\n",
    "movie_df['runtime'] = np.where(movie_df['genres'] == 'Documentary', doc_runtime_mean, movie_df['runtime'])\n",
    "movie_df['runtime'] = np.where(movie_df['genres'] == 'Comedy', comedy_runtime_mean, movie_df['runtime'])\n",
    "movie_df['runtime'] = np.where(movie_df['genres'] == 'Horror', horror_runtime_mean, movie_df['runtime'])\n",
    "movie_df['runtime'].fillna((movie_df['runtime'].mean()), inplace=True)"
   ]
  },
  {
   "cell_type": "markdown",
   "metadata": {
    "id": "Hef3x-1ekMzT"
   },
   "source": [
    "#### Label Encoding utility function:"
   ]
  },
  {
   "cell_type": "code",
   "execution_count": 9,
   "metadata": {
    "id": "06jNTeAFkOXX"
   },
   "outputs": [],
   "source": [
    "def get_best_columns(base_col, count=10):\n",
    "    all_contents = list()\n",
    "    for index, row in movie_df.iterrows():\n",
    "        content = row[base_col]\n",
    "        chunks = content.split(',')\n",
    "        for i in chunks:\n",
    "          all_contents.append(i)\n",
    "    c = Counter(all_contents)\n",
    "    most_common = [key for key, val in c.most_common(count)]\n",
    "    return most_common"
   ]
  },
  {
   "cell_type": "markdown",
   "metadata": {
    "id": "yo9fWx79kYuq"
   },
   "source": [
    "#### Label Encoding Genres:"
   ]
  },
  {
   "cell_type": "code",
   "execution_count": 10,
   "metadata": {
    "id": "VwxHaaZ3kfGY"
   },
   "outputs": [],
   "source": [
    "genres_labels = movie_df['genres'].str.get_dummies(sep=',')\n",
    "most_common = get_best_columns('genres', 5)\n",
    "genres_labels = genres_labels[most_common]\n",
    "movie_df = pd.merge(movie_df, genres_labels, left_index=True, right_index=True)\n",
    "movie_df.drop(['genres'], axis = 1, inplace=True)"
   ]
  },
  {
   "cell_type": "markdown",
   "metadata": {
    "id": "p0W8OAX3ki7E"
   },
   "source": [
    "#### Label Encoding Countries:"
   ]
  },
  {
   "cell_type": "code",
   "execution_count": 11,
   "metadata": {
    "id": "hj21EtZdkk1j"
   },
   "outputs": [],
   "source": [
    "countries_labels = movie_df['country'].str.get_dummies(sep=',')\n",
    "most_common = get_best_columns('country')\n",
    "countries_labels = countries_labels[most_common]\n",
    "movie_df = pd.merge(movie_df, countries_labels, left_index=True, right_index=True)\n",
    "movie_df.drop(['country'], axis = 1, inplace=True)"
   ]
  },
  {
   "cell_type": "markdown",
   "metadata": {
    "id": "CI_HEBwLkstp"
   },
   "source": [
    "#### Label Encoding Languages:"
   ]
  },
  {
   "cell_type": "code",
   "execution_count": 12,
   "metadata": {
    "colab": {
     "base_uri": "https://localhost:8080/"
    },
    "id": "6sMe8P3YkpEE",
    "outputId": "2a6b7d0e-b453-4c97-e71f-beb3f8612969"
   },
   "outputs": [
    {
     "name": "stdout",
     "output_type": "stream",
     "text": [
      "English    0.995406\n",
      "Spanish    0.047984\n",
      "French     0.045772\n",
      "German     0.028246\n",
      "Italian    0.021269\n",
      "dtype: float64\n"
     ]
    }
   ],
   "source": [
    "language_labels = movie_df['language'].str.get_dummies(sep=',')\n",
    "most_common = get_best_columns('language')\n",
    "language_labels = language_labels[most_common]\n",
    "movie_df = pd.merge(movie_df, language_labels, left_index=True, right_index=True)\n",
    "print(language_labels.mean().sort_values(ascending=False)[0:5])\n",
    "movie_df.drop(['language'], axis = 1, inplace=True)"
   ]
  },
  {
   "cell_type": "markdown",
   "metadata": {
    "id": "punri2lqkwuS"
   },
   "source": [
    "#### Label Encoding Production Companies:\n"
   ]
  },
  {
   "cell_type": "code",
   "execution_count": 13,
   "metadata": {
    "id": "U49Qlh1FkxPP"
   },
   "outputs": [],
   "source": [
    "companies_list = get_best_columns('production_companies', 6)\n",
    "if ('company_not_provided' in companies_list):\n",
    "  companies_list.remove('company_not_provided')\n",
    "for i in companies_list:\n",
    "    movie_df[i] = 0\n",
    "for index, row in movie_df.iterrows():\n",
    "    for i in companies_list:\n",
    "        if(i in str(row['production_companies'])):\n",
    "            movie_df.loc[index, i] = 1\n",
    "\n",
    "movie_df.drop(['production_companies'], axis = 1, inplace=True)"
   ]
  },
  {
   "cell_type": "markdown",
   "metadata": {
    "id": "kij4JVL2k2jd"
   },
   "source": [
    "#### Label Encoding Casts:\n"
   ]
  },
  {
   "cell_type": "markdown",
   "metadata": {
    "id": "D-ajPVvOk7o3"
   },
   "source": [
    "There are thousands of casts out there. We will use https://stephenfollows.com/which-actors-most-frequently-appear-in-excellent-awful-movies/ in order to find those actors that most frequently appear in highly rated movies. We will use top actors and see how many of these legends each movie has as it's cast."
   ]
  },
  {
   "cell_type": "code",
   "execution_count": 14,
   "metadata": {
    "id": "Ns7qboGKk8Hb"
   },
   "outputs": [],
   "source": [
    "god_actors = ['Carey Mulligan', 'Tilda Swinton', 'Tom Hardy', 'Andy Serkis',\n",
    "            'Ralph Fiennes', 'Tom Hanks', 'Domhnall Gleeson', 'George Clooney',\n",
    "            'Michael Stuhlbarg', 'Ryan Gosling', 'Emma Watson', 'Leonardo DiCaprio',\n",
    "            'Benedict Cumberbatch', 'Samuel L. Jackson', 'Mark Falvo', 'Morgan Freeman',\n",
    "            'Robert De Niro', 'Ian McKellen', 'Philip Seymour Hoffman', 'Alan Tudyk',\n",
    "              'Al Pacino', 'Christian Bale', 'Denzel Washington', 'Anthony Hopkins',\n",
    "              'Brad Pitt', 'Jack Nicholson', 'Dustin Hoffman', 'Gary Oldman', 'Joaquin Phoenix',\n",
    "              'Matt Damon', 'Will Smith', 'Harrison Ford', 'Tom Cruise', 'Johnny Depp',\n",
    "              'Meryl Streep', 'Daniel Day-Lewis']\n",
    "\n",
    "movie_df['god_actors'] = 0\n",
    "\n",
    "for index,row in movie_df.iterrows():\n",
    "    for god in god_actors:\n",
    "        if(god in str(row['cast'])):\n",
    "            movie_df.loc[index, 'god_actors'] += 1\n",
    "\n",
    "\n",
    "movie_df.drop(['cast'], axis = 1, inplace=True)"
   ]
  },
  {
   "cell_type": "markdown",
   "metadata": {
    "id": "H4yOZhyek-m1"
   },
   "source": [
    "#### Lastly, Writers and directors"
   ]
  },
  {
   "cell_type": "markdown",
   "metadata": {
    "id": "8U9g0JxklD_P"
   },
   "source": [
    "Let's use the List of highest-grossing (and highest rated) film directors(or writers). This list is available at https://en.wikipedia.org/wiki/List_of_highest-grossing_film_directors and https://www.imdb.com/list/ls076197867/. We will use top directors and see if each movie does have at least one of these legends as either director or writer."
   ]
  },
  {
   "cell_type": "code",
   "execution_count": 15,
   "metadata": {
    "id": "5hu89_EzlHz8"
   },
   "outputs": [],
   "source": [
    "gods_list = ['Steven Spielberg', 'Anthony Russo', 'James Cameron', 'Michael Bay',\n",
    "            'Peter Jackson', 'David Yates', 'Christopher Nolan', 'J.J. Abrams',\n",
    "            'Tim Burton', 'Jon Favreau', 'Ron Howard', 'Clint Eastwood', 'Martin Scorsese',\n",
    "            'Alfonso Cuarón', 'Quentin Tarantino', 'Woody Allen', 'David Fincher',\n",
    "             'Francis Ford Coppola', 'Ridley Scott', 'David Lynch', 'Guy Ritchie', \n",
    "             'Ang Lee', 'Wes Anderson', 'Robert Zemeckis', 'Alfred Hitchcock',\n",
    "             'George Lucas', 'Denis Villeneuve', 'Paul Thomas Anderson', 'Terrence Malick',\n",
    "             'Ethan Coen', 'Charlie Kaufman', 'Aaron Sorkin', 'David Mamet', 'Christopher McQuarrie',\n",
    "             'Frank Darabont', 'Richard Linklater', 'Spike Lee', 'Rob Reiner', 'James L. Brooks',\n",
    "             'Oliver Stone', 'Terry Gilliam', 'Michael Mann']\n",
    "\n",
    "movie_df['god_wridir'] = 0\n",
    "\n",
    "for index,row in movie_df.iterrows():\n",
    "    for god in gods_list:\n",
    "        if(god in str(row['director']) or god in str(row['writer'])):\n",
    "            movie_df.loc[index, 'god_wridir'] = 1\n",
    "            \n",
    "movie_df.drop(['writer', 'director'], axis = 1, inplace=True)"
   ]
  },
  {
   "cell_type": "code",
   "execution_count": 16,
   "metadata": {},
   "outputs": [
    {
     "name": "stderr",
     "output_type": "stream",
     "text": [
      "[nltk_data] Downloading package punkt to\n",
      "[nltk_data]     C:\\Users\\hoomo\\AppData\\Roaming\\nltk_data...\n",
      "[nltk_data]   Package punkt is already up-to-date!\n",
      "[nltk_data] Downloading package stopwords to\n",
      "[nltk_data]     C:\\Users\\hoomo\\AppData\\Roaming\\nltk_data...\n",
      "[nltk_data]   Package stopwords is already up-to-date!\n"
     ]
    },
    {
     "data": {
      "text/plain": [
       "True"
      ]
     },
     "execution_count": 16,
     "metadata": {},
     "output_type": "execute_result"
    }
   ],
   "source": [
    "import nltk\n",
    "from wordcloud import WordCloud, STOPWORDS\n",
    "from nltk.corpus import stopwords\n",
    "from sklearn.feature_extraction.text import CountVectorizer\n",
    "from nltk.tokenize import word_tokenize\n",
    "import matplotlib.pyplot as plt\n",
    "nltk.download('punkt')\n",
    "nltk.download('stopwords')"
   ]
  },
  {
   "cell_type": "code",
   "execution_count": 17,
   "metadata": {},
   "outputs": [
    {
     "data": {
      "image/png": "[encoded data removed]",
      "text/plain": [
       "<Figure size 576x576 with 1 Axes>"
      ]
     },
     "metadata": {},
     "output_type": "display_data"
    }
   ],
   "source": [
    "plt.subplots(figsize=(12,12))\n",
    "stop_words = set(stopwords.words('english'))\n",
    "stop_words.update(',',';','!','?','.','(',')','$','#','+',':','...',' ','')\n",
    "words = movie_df['keywords'].dropna().apply(nltk.word_tokenize)\n",
    "word=[]\n",
    "for i in words:\n",
    "      word.extend(i)\n",
    "word=pd.Series(word)\n",
    "word=([i for i in word.str.lower() if i not in stop_words])\n",
    "wc = WordCloud(background_color=\"black\", max_words=50, stopwords=STOPWORDS, max_font_size= 60,width=1000,height=1000)\n",
    "wc.generate(\" \".join(word))\n",
    "plt.imshow(wc)\n",
    "plt.axis('off')\n",
    "fig=plt.gcf()\n",
    "fig.set_size_inches(8,8)\n",
    "plt.show()"
   ]
  },
  {
   "cell_type": "code",
   "execution_count": 18,
   "metadata": {},
   "outputs": [
    {
     "data": {
      "text/plain": [
       "['murder',\n",
       " 'death',\n",
       " 'husband-wife-relationship',\n",
       " 'violence',\n",
       " 'flashback',\n",
       " 'father-son-relationship',\n",
       " 'blood',\n",
       " 'title-spoken-by-character',\n",
       " 'bare-chested-male',\n",
       " 'friendship']"
      ]
     },
     "execution_count": 18,
     "metadata": {},
     "output_type": "execute_result"
    }
   ],
   "source": [
    "from collections import Counter\n",
    "c = Counter(word)\n",
    "n = 10 \n",
    "most_common = [key for key, val in c.most_common(n)]\n",
    "most_common"
   ]
  },
  {
   "cell_type": "code",
   "execution_count": 19,
   "metadata": {},
   "outputs": [],
   "source": [
    "for j in most_common: \n",
    "    movie_df[j] = 0\n",
    "    \n",
    "for index, row in movie_df.iterrows():\n",
    "    for j in most_common:\n",
    "        if (j in row['keywords']):\n",
    "           movie_df.loc[index, j] = 1 "
   ]
  },
  {
   "cell_type": "markdown",
   "metadata": {
    "id": "2MMWd5i6lMed"
   },
   "source": [
    "#### Last checks:"
   ]
  },
  {
   "cell_type": "code",
   "execution_count": 20,
   "metadata": {
    "colab": {
     "base_uri": "https://localhost:8080/",
     "height": 287
    },
    "id": "R-j8ivAhlLRg",
    "outputId": "b575866e-3f36-4001-bbba-82f2662867d2"
   },
   "outputs": [
    {
     "data": {
      "text/html": [
       "<div>\n",
       "<style scoped>\n",
       "    .dataframe tbody tr th:only-of-type {\n",
       "        vertical-align: middle;\n",
       "    }\n",
       "\n",
       "    .dataframe tbody tr th {\n",
       "        vertical-align: top;\n",
       "    }\n",
       "\n",
       "    .dataframe thead th {\n",
       "        text-align: right;\n",
       "    }\n",
       "</style>\n",
       "<table border=\"1\" class=\"dataframe\">\n",
       "  <thead>\n",
       "    <tr style=\"text-align: right;\">\n",
       "      <th></th>\n",
       "      <th>title_year</th>\n",
       "      <th>point</th>\n",
       "      <th>runtime</th>\n",
       "      <th>dollar_budget</th>\n",
       "      <th>BlogPage</th>\n",
       "      <th>CompPage</th>\n",
       "      <th>HomePage</th>\n",
       "      <th>release_month</th>\n",
       "      <th>release_day</th>\n",
       "      <th>Drama</th>\n",
       "      <th>...</th>\n",
       "      <th>murder</th>\n",
       "      <th>death</th>\n",
       "      <th>husband-wife-relationship</th>\n",
       "      <th>violence</th>\n",
       "      <th>flashback</th>\n",
       "      <th>father-son-relationship</th>\n",
       "      <th>blood</th>\n",
       "      <th>title-spoken-by-character</th>\n",
       "      <th>bare-chested-male</th>\n",
       "      <th>friendship</th>\n",
       "    </tr>\n",
       "    <tr>\n",
       "      <th>movie_id</th>\n",
       "      <th></th>\n",
       "      <th></th>\n",
       "      <th></th>\n",
       "      <th></th>\n",
       "      <th></th>\n",
       "      <th></th>\n",
       "      <th></th>\n",
       "      <th></th>\n",
       "      <th></th>\n",
       "      <th></th>\n",
       "      <th></th>\n",
       "      <th></th>\n",
       "      <th></th>\n",
       "      <th></th>\n",
       "      <th></th>\n",
       "      <th></th>\n",
       "      <th></th>\n",
       "      <th></th>\n",
       "      <th></th>\n",
       "      <th></th>\n",
       "      <th></th>\n",
       "    </tr>\n",
       "  </thead>\n",
       "  <tbody>\n",
       "    <tr>\n",
       "      <th>tt0035423</th>\n",
       "      <td>2001.0</td>\n",
       "      <td>6.4</td>\n",
       "      <td>118.0</td>\n",
       "      <td>0.187416</td>\n",
       "      <td>0</td>\n",
       "      <td>0</td>\n",
       "      <td>0</td>\n",
       "      <td>12.0</td>\n",
       "      <td>25.0</td>\n",
       "      <td>0</td>\n",
       "      <td>...</td>\n",
       "      <td>0</td>\n",
       "      <td>0</td>\n",
       "      <td>0</td>\n",
       "      <td>0</td>\n",
       "      <td>0</td>\n",
       "      <td>0</td>\n",
       "      <td>0</td>\n",
       "      <td>0</td>\n",
       "      <td>0</td>\n",
       "      <td>0</td>\n",
       "    </tr>\n",
       "    <tr>\n",
       "      <th>tt0098375</th>\n",
       "      <td>1990.0</td>\n",
       "      <td>4.8</td>\n",
       "      <td>97.0</td>\n",
       "      <td>0.029114</td>\n",
       "      <td>0</td>\n",
       "      <td>0</td>\n",
       "      <td>0</td>\n",
       "      <td>2.0</td>\n",
       "      <td>23.0</td>\n",
       "      <td>0</td>\n",
       "      <td>...</td>\n",
       "      <td>1</td>\n",
       "      <td>1</td>\n",
       "      <td>0</td>\n",
       "      <td>1</td>\n",
       "      <td>1</td>\n",
       "      <td>0</td>\n",
       "      <td>0</td>\n",
       "      <td>1</td>\n",
       "      <td>0</td>\n",
       "      <td>0</td>\n",
       "    </tr>\n",
       "    <tr>\n",
       "      <th>tt0098987</th>\n",
       "      <td>1990.0</td>\n",
       "      <td>6.5</td>\n",
       "      <td>104.0</td>\n",
       "      <td>0.105868</td>\n",
       "      <td>0</td>\n",
       "      <td>0</td>\n",
       "      <td>0</td>\n",
       "      <td>7.0</td>\n",
       "      <td>11.0</td>\n",
       "      <td>0</td>\n",
       "      <td>...</td>\n",
       "      <td>1</td>\n",
       "      <td>1</td>\n",
       "      <td>0</td>\n",
       "      <td>0</td>\n",
       "      <td>0</td>\n",
       "      <td>0</td>\n",
       "      <td>0</td>\n",
       "      <td>0</td>\n",
       "      <td>0</td>\n",
       "      <td>0</td>\n",
       "    </tr>\n",
       "    <tr>\n",
       "      <th>tt0099005</th>\n",
       "      <td>1990.0</td>\n",
       "      <td>5.8</td>\n",
       "      <td>113.0</td>\n",
       "      <td>0.185269</td>\n",
       "      <td>0</td>\n",
       "      <td>0</td>\n",
       "      <td>0</td>\n",
       "      <td>8.0</td>\n",
       "      <td>10.0</td>\n",
       "      <td>0</td>\n",
       "      <td>...</td>\n",
       "      <td>0</td>\n",
       "      <td>0</td>\n",
       "      <td>0</td>\n",
       "      <td>0</td>\n",
       "      <td>0</td>\n",
       "      <td>0</td>\n",
       "      <td>0</td>\n",
       "      <td>1</td>\n",
       "      <td>0</td>\n",
       "      <td>0</td>\n",
       "    </tr>\n",
       "    <tr>\n",
       "      <th>tt0099012</th>\n",
       "      <td>1990.0</td>\n",
       "      <td>6.6</td>\n",
       "      <td>106.0</td>\n",
       "      <td>0.063521</td>\n",
       "      <td>0</td>\n",
       "      <td>0</td>\n",
       "      <td>0</td>\n",
       "      <td>1.0</td>\n",
       "      <td>10.0</td>\n",
       "      <td>0</td>\n",
       "      <td>...</td>\n",
       "      <td>0</td>\n",
       "      <td>0</td>\n",
       "      <td>1</td>\n",
       "      <td>0</td>\n",
       "      <td>1</td>\n",
       "      <td>0</td>\n",
       "      <td>0</td>\n",
       "      <td>1</td>\n",
       "      <td>0</td>\n",
       "      <td>0</td>\n",
       "    </tr>\n",
       "  </tbody>\n",
       "</table>\n",
       "<p>5 rows × 52 columns</p>\n",
       "</div>"
      ],
      "text/plain": [
       "           title_year  point  runtime  dollar_budget  BlogPage  CompPage  \\\n",
       "movie_id                                                                   \n",
       "tt0035423      2001.0    6.4    118.0       0.187416         0         0   \n",
       "tt0098375      1990.0    4.8     97.0       0.029114         0         0   \n",
       "tt0098987      1990.0    6.5    104.0       0.105868         0         0   \n",
       "tt0099005      1990.0    5.8    113.0       0.185269         0         0   \n",
       "tt0099012      1990.0    6.6    106.0       0.063521         0         0   \n",
       "\n",
       "           HomePage  release_month  release_day  Drama  ...  murder  death  \\\n",
       "movie_id                                                ...                  \n",
       "tt0035423         0           12.0         25.0      0  ...       0      0   \n",
       "tt0098375         0            2.0         23.0      0  ...       1      1   \n",
       "tt0098987         0            7.0         11.0      0  ...       1      1   \n",
       "tt0099005         0            8.0         10.0      0  ...       0      0   \n",
       "tt0099012         0            1.0         10.0      0  ...       0      0   \n",
       "\n",
       "           husband-wife-relationship  violence  flashback  \\\n",
       "movie_id                                                    \n",
       "tt0035423                          0         0          0   \n",
       "tt0098375                          0         1          1   \n",
       "tt0098987                          0         0          0   \n",
       "tt0099005                          0         0          0   \n",
       "tt0099012                          1         0          1   \n",
       "\n",
       "           father-son-relationship  blood  title-spoken-by-character  \\\n",
       "movie_id                                                               \n",
       "tt0035423                        0      0                          0   \n",
       "tt0098375                        0      0                          1   \n",
       "tt0098987                        0      0                          0   \n",
       "tt0099005                        0      0                          1   \n",
       "tt0099012                        0      0                          1   \n",
       "\n",
       "           bare-chested-male  friendship  \n",
       "movie_id                                  \n",
       "tt0035423                  0           0  \n",
       "tt0098375                  0           0  \n",
       "tt0098987                  0           0  \n",
       "tt0099005                  0           0  \n",
       "tt0099012                  0           0  \n",
       "\n",
       "[5 rows x 52 columns]"
      ]
     },
     "execution_count": 20,
     "metadata": {},
     "output_type": "execute_result"
    }
   ],
   "source": [
    "movie_df.drop(['story_line', 'keywords'], axis = 1, inplace=True)\n",
    "movie_df.dropna(subset= ['point', 'dollar_budget'], how='any', inplace=True)\n",
    "movie_df.head()"
   ]
  },
  {
   "cell_type": "markdown",
   "metadata": {
    "id": "lNMRJgmEaqwT"
   },
   "source": [
    "# Regressors:"
   ]
  },
  {
   "cell_type": "markdown",
   "metadata": {
    "id": "jOWVhlE-lvnI"
   },
   "source": [
    "## Random Forest:\n"
   ]
  },
  {
   "cell_type": "markdown",
   "metadata": {
    "id": "qgjK1c78mLlK"
   },
   "source": [
    "#### RandomizedSearchCV for best hyperparameter values:"
   ]
  },
  {
   "cell_type": "code",
   "execution_count": 21,
   "metadata": {
    "colab": {
     "base_uri": "https://localhost:8080/"
    },
    "id": "d8tDmjTil2Lg",
    "outputId": "2b47b938-e24f-4a44-db2b-775ff23bb936"
   },
   "outputs": [
    {
     "name": "stdout",
     "output_type": "stream",
     "text": [
      "{'max_depth': [22, 24, 27, 30, 33],\n",
      " 'max_features': ['auto', 'sqrt'],\n",
      " 'min_samples_leaf': [1, 2, 4, 6],\n",
      " 'min_samples_split': [5, 10, 15],\n",
      " 'n_estimators': [150, 161, 172, 184, 195, 207, 218, 230]}\n"
     ]
    }
   ],
   "source": [
    "n_estimators = [int(x) for x in np.linspace(start = 150, stop = 230, num = 8)]\n",
    "max_depth = [int(x) for x in np.linspace(22, 33, num = 5)]\n",
    "max_features = ['auto', 'sqrt']\n",
    "min_samples_split = [5, 10, 15]\n",
    "min_samples_leaf = [1, 2, 4, 6]\n",
    "\n",
    "random_grid = {'n_estimators': n_estimators,\n",
    "               'max_features': max_features,\n",
    "               'max_depth': max_depth,\n",
    "               'min_samples_split': min_samples_split,\n",
    "               'min_samples_leaf': min_samples_leaf}\n",
    "\n",
    "pprint(random_grid)"
   ]
  },
  {
   "cell_type": "code",
   "execution_count": 22,
   "metadata": {
    "colab": {
     "base_uri": "https://localhost:8080/"
    },
    "id": "uvzUdMOKmJ49",
    "outputId": "5f09352f-03ce-4ff3-cbb0-6f374dbe42f0"
   },
   "outputs": [
    {
     "name": "stdout",
     "output_type": "stream",
     "text": [
      "Fitting 10 folds for each of 10 candidates, totalling 100 fits\n"
     ]
    },
    {
     "name": "stderr",
     "output_type": "stream",
     "text": [
      "[Parallel(n_jobs=-1)]: Using backend LokyBackend with 8 concurrent workers.\n",
      "[Parallel(n_jobs=-1)]: Done  25 tasks      | elapsed:   27.3s\n",
      "[Parallel(n_jobs=-1)]: Done 100 out of 100 | elapsed:  1.2min finished\n"
     ]
    },
    {
     "data": {
      "text/plain": [
       "{'n_estimators': 218,\n",
       " 'min_samples_split': 10,\n",
       " 'min_samples_leaf': 1,\n",
       " 'max_features': 'sqrt',\n",
       " 'max_depth': 33}"
      ]
     },
     "execution_count": 22,
     "metadata": {},
     "output_type": "execute_result"
    }
   ],
   "source": [
    "X_train, X_test, y_train, y_test = train_test_split(movie_df.drop('point', axis=1), \n",
    "                                                          movie_df['point'], test_size=0.2, random_state=42)\n",
    "rf = RandomForestRegressor()\n",
    "rf_random = RandomizedSearchCV(estimator = rf, param_distributions = random_grid, \n",
    "                               n_iter = 10, cv = 10, verbose=2, random_state=42, \n",
    "                               n_jobs = -1, scoring='neg_mean_squared_error')\n",
    "rf_random.fit(X_train, y_train)\n",
    "rf_random.best_params_"
   ]
  },
  {
   "cell_type": "markdown",
   "metadata": {
    "id": "KKoojcbmmpG7"
   },
   "source": [
    "#### Evaluation method utility:"
   ]
  },
  {
   "cell_type": "code",
   "execution_count": 23,
   "metadata": {
    "id": "fdMvPZCimra6"
   },
   "outputs": [],
   "source": [
    "def pae(y_pred, y_true, a, b):\n",
    "    akbar = len(y_pred)\n",
    "    count = 0\n",
    "    for i in range(len(y_pred)):\n",
    "        target = abs(y_pred[i] - y_true[i])\n",
    "        if (target >= a) and (target < b):\n",
    "            count += 1\n",
    "    return (count/akbar)\n",
    "\n",
    "\n",
    "def evaluate(y_test, y_pred, y_train, y_train_pred):\n",
    "    train_acc = 100 - np.mean(100 * (abs(y_train_pred - y_train) / y_train))\n",
    "    test_acc = 100 - np.mean(100 * (abs(y_pred - y_test) / y_test))\n",
    "    train_r2 = metrics.r2_score(y_train, y_train_pred)\n",
    "    test_r2 = metrics.r2_score(y_test, y_pred)\n",
    "    tr_pae01 = pae(y_train_pred, y_train, 0, 0.5)\n",
    "    tr_pae12 = pae(y_train_pred, y_train, 0, 1)\n",
    "    tr_pae23 = pae(y_train_pred, y_train, 0, 2)\n",
    "    \n",
    "    ts_pa01 = pae(y_pred, y_test, 0, 0.5)\n",
    "    ts_pa12 = pae(y_pred, y_test, 0, 1)\n",
    "    ts_pa23 = pae(y_pred, y_test, 0, 2)\n",
    "    \n",
    "    \n",
    "    train_mae = metrics.mean_absolute_error(y_train, y_train_pred)\n",
    "    test_mae = metrics.mean_absolute_error(y_test, y_pred)\n",
    "    train_rmse = np.sqrt(metrics.mean_squared_error(y_train, y_train_pred))\n",
    "    test_rmse = np.sqrt(metrics.mean_squared_error(y_test, y_pred))\n",
    "    result = pd.DataFrame({\n",
    "    'Data' : ['Train', 'Test'],\n",
    "    'Accuracy' : [train_acc, test_acc],\n",
    "    'R2' : [train_r2, test_r2],\n",
    "    'MAE' : [train_mae, test_mae],\n",
    "    'RMSE'   : [train_rmse, test_rmse],\n",
    "    'PAE(0,0.5)' : [tr_pae01, ts_pa01],\n",
    "    'PAE(0,1)' : [tr_pae12, ts_pa12],\n",
    "    'PAE(0,2)' : [tr_pae23, ts_pa23]\n",
    "    })\n",
    "    return result"
   ]
  },
  {
   "cell_type": "code",
   "execution_count": 24,
   "metadata": {
    "id": "I-13o9LkpvQx"
   },
   "outputs": [],
   "source": [
    "n_est_best = rf_random.best_params_['n_estimators']\n",
    "min_sp_best = rf_random.best_params_['min_samples_split']\n",
    "max_f_best = rf_random.best_params_['max_features']\n",
    "max_d_best = rf_random.best_params_['max_depth']\n",
    "\n",
    "def split_and_fit(input_df):\n",
    "    X_train, X_test, y_train, y_test = train_test_split(input_df.drop('point', axis=1), \n",
    "                                                          input_df['point'], test_size=0.2, random_state=42)\n",
    "    rf = RandomForestRegressor(n_estimators = n_est_best, min_samples_split = min_sp_best,\n",
    "                              max_features = max_f_best, max_depth = max_d_best)\n",
    "    rf.fit(X_train, y_train)\n",
    "    return evaluate(y_test, rf.predict(X_test), y_train, rf.predict(X_train))"
   ]
  },
  {
   "cell_type": "markdown",
   "metadata": {
    "id": "WifT97U3m1oY"
   },
   "source": [
    "#### Handling ouliers:"
   ]
  },
  {
   "cell_type": "markdown",
   "metadata": {
    "id": "sNCeWG-hm4hd"
   },
   "source": [
    "Let's try something fun. Here we will check three main methods of handling outliers and their impact on model performance:\n",
    "* Using Upper and Lower limit for point. Remove all movies that their point is higher or lower than a specific range.\n",
    "\n",
    "* Using only a Lower limit. Remove all movies that have low budget. We will use budget_cluster and remove the first two groups from."
   ]
  },
  {
   "cell_type": "code",
   "execution_count": 65,
   "metadata": {
    "colab": {
     "base_uri": "https://localhost:8080/",
     "height": 110
    },
    "id": "ZRsfUW5Am7ch",
    "outputId": "874af07e-c60f-4715-8515-068434b89ff2"
   },
   "outputs": [
    {
     "data": {
      "text/html": [
       "<div>\n",
       "<style scoped>\n",
       "    .dataframe tbody tr th:only-of-type {\n",
       "        vertical-align: middle;\n",
       "    }\n",
       "\n",
       "    .dataframe tbody tr th {\n",
       "        vertical-align: top;\n",
       "    }\n",
       "\n",
       "    .dataframe thead th {\n",
       "        text-align: right;\n",
       "    }\n",
       "</style>\n",
       "<table border=\"1\" class=\"dataframe\">\n",
       "  <thead>\n",
       "    <tr style=\"text-align: right;\">\n",
       "      <th></th>\n",
       "      <th>Data</th>\n",
       "      <th>Accuracy</th>\n",
       "      <th>R2</th>\n",
       "      <th>MAE</th>\n",
       "      <th>RMSE</th>\n",
       "      <th>PAE(0,0.5)</th>\n",
       "      <th>PAE(0,1)</th>\n",
       "      <th>PAE(0,2)</th>\n",
       "    </tr>\n",
       "  </thead>\n",
       "  <tbody>\n",
       "    <tr>\n",
       "      <th>0</th>\n",
       "      <td>Train</td>\n",
       "      <td>93.785538</td>\n",
       "      <td>0.654484</td>\n",
       "      <td>0.372636</td>\n",
       "      <td>0.463168</td>\n",
       "      <td>0.718933</td>\n",
       "      <td>0.970981</td>\n",
       "      <td>1.0</td>\n",
       "    </tr>\n",
       "    <tr>\n",
       "      <th>1</th>\n",
       "      <td>Test</td>\n",
       "      <td>90.682261</td>\n",
       "      <td>0.258011</td>\n",
       "      <td>0.561806</td>\n",
       "      <td>0.686736</td>\n",
       "      <td>0.519177</td>\n",
       "      <td>0.849392</td>\n",
       "      <td>1.0</td>\n",
       "    </tr>\n",
       "  </tbody>\n",
       "</table>\n",
       "</div>"
      ],
      "text/plain": [
       "    Data   Accuracy        R2       MAE      RMSE  PAE(0,0.5)  PAE(0,1)  \\\n",
       "0  Train  93.785538  0.654484  0.372636  0.463168    0.718933  0.970981   \n",
       "1   Test  90.682261  0.258011  0.561806  0.686736    0.519177  0.849392   \n",
       "\n",
       "   PAE(0,2)  \n",
       "0       1.0  \n",
       "1       1.0  "
      ]
     },
     "execution_count": 65,
     "metadata": {},
     "output_type": "execute_result"
    }
   ],
   "source": [
    "## Second solution\n",
    "upper_lim = movie_df['point'].quantile(.96)\n",
    "lower_lim = movie_df['point'].quantile(.04)\n",
    "no_outliers = movie_df[(movie_df['point'] < upper_lim) & (movie_df['point'] > lower_lim)]\n",
    "split_and_fit(no_outliers)"
   ]
  },
  {
   "cell_type": "code",
   "execution_count": 66,
   "metadata": {},
   "outputs": [
    {
     "data": {
      "text/plain": [
       "Text(0, 0.5, 'Frequency')"
      ]
     },
     "execution_count": 66,
     "metadata": {},
     "output_type": "execute_result"
    },
    {
     "data": {
      "image/png": "[encoded data removed]",
      "text/plain": [
       "<Figure size 576x360 with 1 Axes>"
      ]
     },
     "metadata": {},
     "output_type": "display_data"
    }
   ],
   "source": [
    "plt.figure(figsize=(8,5))\n",
    "plt.hist(no_outliers['point'], bins=25, density=True, alpha=0.6, color='g')\n",
    "plt.xlabel(\"Rating\")\n",
    "plt.ylabel(\"Frequency\")"
   ]
  },
  {
   "cell_type": "markdown",
   "metadata": {
    "id": "zJMlbfLInDtw"
   },
   "source": [
    "#### Removing unimportant columns based on correlation:\n"
   ]
  },
  {
   "cell_type": "markdown",
   "metadata": {
    "id": "kfjdXz5BnE5h"
   },
   "source": [
    "We will drop those columns that their correlation with point is less than 1%, this action will result in a smaller dataset and also a mild increase in accuracy:"
   ]
  },
  {
   "cell_type": "code",
   "execution_count": 26,
   "metadata": {
    "id": "aV6c0YHInG3Q"
   },
   "outputs": [
    {
     "data": {
      "text/html": [
       "<div>\n",
       "<style scoped>\n",
       "    .dataframe tbody tr th:only-of-type {\n",
       "        vertical-align: middle;\n",
       "    }\n",
       "\n",
       "    .dataframe tbody tr th {\n",
       "        vertical-align: top;\n",
       "    }\n",
       "\n",
       "    .dataframe thead th {\n",
       "        text-align: right;\n",
       "    }\n",
       "</style>\n",
       "<table border=\"1\" class=\"dataframe\">\n",
       "  <thead>\n",
       "    <tr style=\"text-align: right;\">\n",
       "      <th></th>\n",
       "      <th>Data</th>\n",
       "      <th>Accuracy</th>\n",
       "      <th>R2</th>\n",
       "      <th>MAE</th>\n",
       "      <th>RMSE</th>\n",
       "      <th>PAE(0,0.5)</th>\n",
       "      <th>PAE(0,1)</th>\n",
       "      <th>PAE(0,2)</th>\n",
       "    </tr>\n",
       "  </thead>\n",
       "  <tbody>\n",
       "    <tr>\n",
       "      <th>0</th>\n",
       "      <td>Train</td>\n",
       "      <td>93.579547</td>\n",
       "      <td>0.630955</td>\n",
       "      <td>0.385008</td>\n",
       "      <td>0.47868</td>\n",
       "      <td>0.704657</td>\n",
       "      <td>0.962790</td>\n",
       "      <td>1.000000</td>\n",
       "    </tr>\n",
       "    <tr>\n",
       "      <th>1</th>\n",
       "      <td>Test</td>\n",
       "      <td>90.748635</td>\n",
       "      <td>0.270076</td>\n",
       "      <td>0.557276</td>\n",
       "      <td>0.68113</td>\n",
       "      <td>0.516370</td>\n",
       "      <td>0.856876</td>\n",
       "      <td>0.999065</td>\n",
       "    </tr>\n",
       "  </tbody>\n",
       "</table>\n",
       "</div>"
      ],
      "text/plain": [
       "    Data   Accuracy        R2       MAE     RMSE  PAE(0,0.5)  PAE(0,1)  \\\n",
       "0  Train  93.579547  0.630955  0.385008  0.47868    0.704657  0.962790   \n",
       "1   Test  90.748635  0.270076  0.557276  0.68113    0.516370  0.856876   \n",
       "\n",
       "   PAE(0,2)  \n",
       "0  1.000000  \n",
       "1  0.999065  "
      ]
     },
     "execution_count": 26,
     "metadata": {},
     "output_type": "execute_result"
    }
   ],
   "source": [
    "df_corr = no_outliers.corr()\n",
    "a_corrlist = df_corr['point'].sort_values(ascending=False)\n",
    "strong_columns = a_corrlist[abs(a_corrlist) >= 0.01].index.to_list()\n",
    "no_outliers = no_outliers[strong_columns]\n",
    "X_train, X_test, y_train, y_test = train_test_split(no_outliers.drop('point', axis=1), \n",
    "                                                      no_outliers['point'], test_size=0.2, random_state=42)\n",
    "rf = RandomForestRegressor(n_estimators = n_est_best, min_samples_split = min_sp_best,\n",
    "                          max_features = max_f_best, max_depth = max_d_best)\n",
    "rf.fit(X_train, y_train)\n",
    "evaluate(y_test, rf.predict(X_test), y_train, rf.predict(X_train))"
   ]
  },
  {
   "cell_type": "markdown",
   "metadata": {
    "id": "Hae2xnm84YnQ"
   },
   "source": [
    "## Lasso and Ridge Regressor:"
   ]
  },
  {
   "cell_type": "code",
   "execution_count": 27,
   "metadata": {
    "id": "8WqhQ5QU4bDW"
   },
   "outputs": [],
   "source": [
    "from sklearn import linear_model\n",
    "from sklearn.pipeline import Pipeline\n",
    "from sklearn.preprocessing import PolynomialFeatures"
   ]
  },
  {
   "cell_type": "code",
   "execution_count": 28,
   "metadata": {
    "id": "yuSTa3bQ5p-a"
   },
   "outputs": [],
   "source": [
    "lasso_params = {'alpha':[0.001, 0.002, 0.005, 0.007 ,0.01, 0.015, 0.02]}\n",
    "ridge_params = {'alpha':[int(x) for x in np.linspace(10, 100, num = 30)]}"
   ]
  },
  {
   "cell_type": "code",
   "execution_count": 29,
   "metadata": {
    "id": "1UI04i1Q62z2"
   },
   "outputs": [
    {
     "name": "stdout",
     "output_type": "stream",
     "text": [
      "Fitting 10 folds for each of 7 candidates, totalling 70 fits\n"
     ]
    },
    {
     "name": "stderr",
     "output_type": "stream",
     "text": [
      "[Parallel(n_jobs=-1)]: Using backend LokyBackend with 8 concurrent workers.\n",
      "[Parallel(n_jobs=-1)]: Done  34 tasks      | elapsed:    0.3s\n",
      "[Parallel(n_jobs=-1)]: Done  70 out of  70 | elapsed:    0.5s finished\n",
      "[Parallel(n_jobs=-1)]: Using backend LokyBackend with 8 concurrent workers.\n"
     ]
    },
    {
     "name": "stdout",
     "output_type": "stream",
     "text": [
      "Fitting 10 folds for each of 10 candidates, totalling 100 fits\n"
     ]
    },
    {
     "name": "stderr",
     "output_type": "stream",
     "text": [
      "[Parallel(n_jobs=-1)]: Done  34 tasks      | elapsed:    0.2s\n",
      "[Parallel(n_jobs=-1)]: Done 100 out of 100 | elapsed:    0.6s finished\n"
     ]
    }
   ],
   "source": [
    "X_train, X_test, y_train, y_test = train_test_split(no_outliers.drop('point', axis=1), \n",
    "                                                          no_outliers['point'], test_size=0.2, random_state=42)\n",
    "lasso = linear_model.Lasso()\n",
    "lasso_random = RandomizedSearchCV(estimator = lasso, param_distributions = lasso_params, \n",
    "                               n_iter = 7, cv = 10, verbose=2, random_state=42, \n",
    "                               n_jobs = -1, scoring='neg_mean_squared_error')\n",
    "lasso_random.fit(X_train, y_train)\n",
    "lasso_model = lasso_random.best_estimator_\n",
    "\n",
    "\n",
    "ridge = linear_model.Ridge()\n",
    "ridge_random = RandomizedSearchCV(estimator = ridge, param_distributions = ridge_params, \n",
    "                               n_iter = 10, cv = 10, verbose=2, random_state=42, \n",
    "                               n_jobs = -1, scoring='neg_mean_squared_error')\n",
    "ridge_random.fit(X_train, y_train)\n",
    "ridge_model = ridge_random.best_estimator_"
   ]
  },
  {
   "cell_type": "markdown",
   "metadata": {
    "id": "LC1M8VvD9qg2"
   },
   "source": [
    "#### Lasso and Ridge Performance without pipeline:"
   ]
  },
  {
   "cell_type": "code",
   "execution_count": 30,
   "metadata": {
    "id": "w2xhNmvI8tMy"
   },
   "outputs": [
    {
     "data": {
      "text/html": [
       "<div>\n",
       "<style scoped>\n",
       "    .dataframe tbody tr th:only-of-type {\n",
       "        vertical-align: middle;\n",
       "    }\n",
       "\n",
       "    .dataframe tbody tr th {\n",
       "        vertical-align: top;\n",
       "    }\n",
       "\n",
       "    .dataframe thead th {\n",
       "        text-align: right;\n",
       "    }\n",
       "</style>\n",
       "<table border=\"1\" class=\"dataframe\">\n",
       "  <thead>\n",
       "    <tr style=\"text-align: right;\">\n",
       "      <th></th>\n",
       "      <th>Data</th>\n",
       "      <th>Accuracy</th>\n",
       "      <th>R2</th>\n",
       "      <th>MAE</th>\n",
       "      <th>RMSE</th>\n",
       "      <th>PAE(0,0.5)</th>\n",
       "      <th>PAE(0,1)</th>\n",
       "      <th>PAE(0,2)</th>\n",
       "    </tr>\n",
       "  </thead>\n",
       "  <tbody>\n",
       "    <tr>\n",
       "      <th>0</th>\n",
       "      <td>Train</td>\n",
       "      <td>90.702471</td>\n",
       "      <td>0.222575</td>\n",
       "      <td>0.557772</td>\n",
       "      <td>0.694759</td>\n",
       "      <td>0.519541</td>\n",
       "      <td>0.842031</td>\n",
       "      <td>0.998128</td>\n",
       "    </tr>\n",
       "    <tr>\n",
       "      <th>1</th>\n",
       "      <td>Test</td>\n",
       "      <td>90.434103</td>\n",
       "      <td>0.207389</td>\n",
       "      <td>0.576768</td>\n",
       "      <td>0.709776</td>\n",
       "      <td>0.504210</td>\n",
       "      <td>0.821328</td>\n",
       "      <td>1.000000</td>\n",
       "    </tr>\n",
       "  </tbody>\n",
       "</table>\n",
       "</div>"
      ],
      "text/plain": [
       "    Data   Accuracy        R2       MAE      RMSE  PAE(0,0.5)  PAE(0,1)  \\\n",
       "0  Train  90.702471  0.222575  0.557772  0.694759    0.519541  0.842031   \n",
       "1   Test  90.434103  0.207389  0.576768  0.709776    0.504210  0.821328   \n",
       "\n",
       "   PAE(0,2)  \n",
       "0  0.998128  \n",
       "1  1.000000  "
      ]
     },
     "execution_count": 30,
     "metadata": {},
     "output_type": "execute_result"
    }
   ],
   "source": [
    "## Lasso:\n",
    "evaluate(y_test, lasso_model.predict(X_test), y_train, lasso_model.predict(X_train))"
   ]
  },
  {
   "cell_type": "code",
   "execution_count": 31,
   "metadata": {
    "id": "YdgdQ0vT9x_G"
   },
   "outputs": [
    {
     "data": {
      "text/html": [
       "<div>\n",
       "<style scoped>\n",
       "    .dataframe tbody tr th:only-of-type {\n",
       "        vertical-align: middle;\n",
       "    }\n",
       "\n",
       "    .dataframe tbody tr th {\n",
       "        vertical-align: top;\n",
       "    }\n",
       "\n",
       "    .dataframe thead th {\n",
       "        text-align: right;\n",
       "    }\n",
       "</style>\n",
       "<table border=\"1\" class=\"dataframe\">\n",
       "  <thead>\n",
       "    <tr style=\"text-align: right;\">\n",
       "      <th></th>\n",
       "      <th>Data</th>\n",
       "      <th>Accuracy</th>\n",
       "      <th>R2</th>\n",
       "      <th>MAE</th>\n",
       "      <th>RMSE</th>\n",
       "      <th>PAE(0,0.5)</th>\n",
       "      <th>PAE(0,1)</th>\n",
       "      <th>PAE(0,2)</th>\n",
       "    </tr>\n",
       "  </thead>\n",
       "  <tbody>\n",
       "    <tr>\n",
       "      <th>0</th>\n",
       "      <td>Train</td>\n",
       "      <td>90.696707</td>\n",
       "      <td>0.222360</td>\n",
       "      <td>0.558095</td>\n",
       "      <td>0.694855</td>\n",
       "      <td>0.520477</td>\n",
       "      <td>0.840861</td>\n",
       "      <td>0.998362</td>\n",
       "    </tr>\n",
       "    <tr>\n",
       "      <th>1</th>\n",
       "      <td>Test</td>\n",
       "      <td>90.424114</td>\n",
       "      <td>0.206217</td>\n",
       "      <td>0.577415</td>\n",
       "      <td>0.710301</td>\n",
       "      <td>0.507016</td>\n",
       "      <td>0.821328</td>\n",
       "      <td>1.000000</td>\n",
       "    </tr>\n",
       "  </tbody>\n",
       "</table>\n",
       "</div>"
      ],
      "text/plain": [
       "    Data   Accuracy        R2       MAE      RMSE  PAE(0,0.5)  PAE(0,1)  \\\n",
       "0  Train  90.696707  0.222360  0.558095  0.694855    0.520477  0.840861   \n",
       "1   Test  90.424114  0.206217  0.577415  0.710301    0.507016  0.821328   \n",
       "\n",
       "   PAE(0,2)  \n",
       "0  0.998362  \n",
       "1  1.000000  "
      ]
     },
     "execution_count": 31,
     "metadata": {},
     "output_type": "execute_result"
    }
   ],
   "source": [
    "## Ridge:\n",
    "evaluate(y_test, ridge_model.predict(X_test), y_train, ridge_model.predict(X_train))"
   ]
  },
  {
   "cell_type": "markdown",
   "metadata": {
    "id": "ujiuctzj95nA"
   },
   "source": [
    "#### Adding pipeline:"
   ]
  },
  {
   "cell_type": "code",
   "execution_count": 32,
   "metadata": {
    "id": "4EEK5kK49OBQ"
   },
   "outputs": [
    {
     "name": "stderr",
     "output_type": "stream",
     "text": [
      "C:\\Users\\hoomo\\miniconda3\\lib\\site-packages\\sklearn\\model_selection\\_search.py:282: UserWarning: The total space of parameters 7 is smaller than n_iter=10. Running 7 iterations. For exhaustive searches, use GridSearchCV.\n",
      "  % (grid_size, self.n_iter, grid_size), UserWarning)\n",
      "[Parallel(n_jobs=-1)]: Using backend LokyBackend with 8 concurrent workers.\n"
     ]
    },
    {
     "name": "stdout",
     "output_type": "stream",
     "text": [
      "Fitting 10 folds for each of 7 candidates, totalling 70 fits\n"
     ]
    },
    {
     "name": "stderr",
     "output_type": "stream",
     "text": [
      "[Parallel(n_jobs=-1)]: Done  25 tasks      | elapsed:   41.8s\n",
      "[Parallel(n_jobs=-1)]: Done  70 out of  70 | elapsed:  1.7min finished\n",
      "C:\\Users\\hoomo\\miniconda3\\lib\\site-packages\\sklearn\\linear_model\\_coordinate_descent.py:531: ConvergenceWarning: Objective did not converge. You might want to increase the number of iterations. Duality gap: 966.2747727631747, tolerance: 0.26530341259068574\n",
      "  positive)\n",
      "[Parallel(n_jobs=-1)]: Using backend LokyBackend with 8 concurrent workers.\n"
     ]
    },
    {
     "name": "stdout",
     "output_type": "stream",
     "text": [
      "Fitting 10 folds for each of 10 candidates, totalling 100 fits\n"
     ]
    },
    {
     "name": "stderr",
     "output_type": "stream",
     "text": [
      "[Parallel(n_jobs=-1)]: Done  25 tasks      | elapsed:    1.9s\n",
      "[Parallel(n_jobs=-1)]: Done 100 out of 100 | elapsed:    7.0s finished\n"
     ]
    }
   ],
   "source": [
    "lasso_params = {'fit__alpha':[0.001, 0.002, 0.005, 0.007 ,0.01, 0.015, 0.02]}\n",
    "ridge_params = {'fit__alpha':[int(x) for x in np.linspace(10, 100, num = 30)]}\n",
    "\n",
    "pipe_lasso = Pipeline([('poly', PolynomialFeatures()),\n",
    "                 ('fit', linear_model.Lasso())])\n",
    "lasso_random = RandomizedSearchCV(estimator = pipe_lasso, param_distributions = lasso_params, \n",
    "                               n_iter = 10, cv = 10, verbose=2, random_state=42, \n",
    "                               n_jobs = -1, scoring='neg_mean_squared_error')\n",
    "lasso_random.fit(X_train, y_train)\n",
    "lasso_model = lasso_random.best_estimator_\n",
    "\n",
    "pipe_ridge = Pipeline([('poly', PolynomialFeatures()),\n",
    "                 ('fit', linear_model.Ridge())])\n",
    "ridge_random = RandomizedSearchCV(estimator = pipe_ridge, param_distributions = ridge_params, \n",
    "                               n_iter = 10, cv = 10, verbose=2, random_state=42, \n",
    "                               n_jobs = -1, scoring='neg_mean_squared_error')\n",
    "ridge_random.fit(X_train, y_train)\n",
    "ridge_model = ridge_random.best_estimator_"
   ]
  },
  {
   "cell_type": "markdown",
   "metadata": {
    "id": "_MwPYab0_NCT"
   },
   "source": [
    "#### Lasso and Ridge Performance with pipeline:"
   ]
  },
  {
   "cell_type": "code",
   "execution_count": 33,
   "metadata": {
    "id": "AXmVwEd7_Or1"
   },
   "outputs": [
    {
     "data": {
      "text/html": [
       "<div>\n",
       "<style scoped>\n",
       "    .dataframe tbody tr th:only-of-type {\n",
       "        vertical-align: middle;\n",
       "    }\n",
       "\n",
       "    .dataframe tbody tr th {\n",
       "        vertical-align: top;\n",
       "    }\n",
       "\n",
       "    .dataframe thead th {\n",
       "        text-align: right;\n",
       "    }\n",
       "</style>\n",
       "<table border=\"1\" class=\"dataframe\">\n",
       "  <thead>\n",
       "    <tr style=\"text-align: right;\">\n",
       "      <th></th>\n",
       "      <th>Data</th>\n",
       "      <th>Accuracy</th>\n",
       "      <th>R2</th>\n",
       "      <th>MAE</th>\n",
       "      <th>RMSE</th>\n",
       "      <th>PAE(0,0.5)</th>\n",
       "      <th>PAE(0,1)</th>\n",
       "      <th>PAE(0,2)</th>\n",
       "    </tr>\n",
       "  </thead>\n",
       "  <tbody>\n",
       "    <tr>\n",
       "      <th>0</th>\n",
       "      <td>Train</td>\n",
       "      <td>91.088085</td>\n",
       "      <td>0.289001</td>\n",
       "      <td>0.534574</td>\n",
       "      <td>0.664415</td>\n",
       "      <td>0.536859</td>\n",
       "      <td>0.858413</td>\n",
       "      <td>0.99883</td>\n",
       "    </tr>\n",
       "    <tr>\n",
       "      <th>1</th>\n",
       "      <td>Test</td>\n",
       "      <td>90.614276</td>\n",
       "      <td>0.244337</td>\n",
       "      <td>0.564435</td>\n",
       "      <td>0.693035</td>\n",
       "      <td>0.518241</td>\n",
       "      <td>0.837231</td>\n",
       "      <td>1.00000</td>\n",
       "    </tr>\n",
       "  </tbody>\n",
       "</table>\n",
       "</div>"
      ],
      "text/plain": [
       "    Data   Accuracy        R2       MAE      RMSE  PAE(0,0.5)  PAE(0,1)  \\\n",
       "0  Train  91.088085  0.289001  0.534574  0.664415    0.536859  0.858413   \n",
       "1   Test  90.614276  0.244337  0.564435  0.693035    0.518241  0.837231   \n",
       "\n",
       "   PAE(0,2)  \n",
       "0   0.99883  \n",
       "1   1.00000  "
      ]
     },
     "execution_count": 33,
     "metadata": {},
     "output_type": "execute_result"
    }
   ],
   "source": [
    "## Lasso:\n",
    "evaluate(y_test, lasso_model.predict(X_test), y_train, lasso_model.predict(X_train))"
   ]
  },
  {
   "cell_type": "code",
   "execution_count": 34,
   "metadata": {
    "id": "3X5e9s6E98uk"
   },
   "outputs": [
    {
     "data": {
      "text/html": [
       "<div>\n",
       "<style scoped>\n",
       "    .dataframe tbody tr th:only-of-type {\n",
       "        vertical-align: middle;\n",
       "    }\n",
       "\n",
       "    .dataframe tbody tr th {\n",
       "        vertical-align: top;\n",
       "    }\n",
       "\n",
       "    .dataframe thead th {\n",
       "        text-align: right;\n",
       "    }\n",
       "</style>\n",
       "<table border=\"1\" class=\"dataframe\">\n",
       "  <thead>\n",
       "    <tr style=\"text-align: right;\">\n",
       "      <th></th>\n",
       "      <th>Data</th>\n",
       "      <th>Accuracy</th>\n",
       "      <th>R2</th>\n",
       "      <th>MAE</th>\n",
       "      <th>RMSE</th>\n",
       "      <th>PAE(0,0.5)</th>\n",
       "      <th>PAE(0,1)</th>\n",
       "      <th>PAE(0,2)</th>\n",
       "    </tr>\n",
       "  </thead>\n",
       "  <tbody>\n",
       "    <tr>\n",
       "      <th>0</th>\n",
       "      <td>Train</td>\n",
       "      <td>91.261008</td>\n",
       "      <td>0.314430</td>\n",
       "      <td>0.524043</td>\n",
       "      <td>0.652425</td>\n",
       "      <td>0.547859</td>\n",
       "      <td>0.865668</td>\n",
       "      <td>0.998830</td>\n",
       "    </tr>\n",
       "    <tr>\n",
       "      <th>1</th>\n",
       "      <td>Test</td>\n",
       "      <td>90.590588</td>\n",
       "      <td>0.239701</td>\n",
       "      <td>0.565833</td>\n",
       "      <td>0.695158</td>\n",
       "      <td>0.526660</td>\n",
       "      <td>0.839102</td>\n",
       "      <td>0.999065</td>\n",
       "    </tr>\n",
       "  </tbody>\n",
       "</table>\n",
       "</div>"
      ],
      "text/plain": [
       "    Data   Accuracy        R2       MAE      RMSE  PAE(0,0.5)  PAE(0,1)  \\\n",
       "0  Train  91.261008  0.314430  0.524043  0.652425    0.547859  0.865668   \n",
       "1   Test  90.590588  0.239701  0.565833  0.695158    0.526660  0.839102   \n",
       "\n",
       "   PAE(0,2)  \n",
       "0  0.998830  \n",
       "1  0.999065  "
      ]
     },
     "execution_count": 34,
     "metadata": {},
     "output_type": "execute_result"
    }
   ],
   "source": [
    "## Ridge:\n",
    "evaluate(y_test, ridge_model.predict(X_test), y_train, ridge_model.predict(X_train))"
   ]
  },
  {
   "cell_type": "markdown",
   "metadata": {
    "id": "k1aoaFCiOnE0"
   },
   "source": [
    "## SVRs:"
   ]
  },
  {
   "cell_type": "markdown",
   "metadata": {
    "id": "CLwDv599OqEB"
   },
   "source": [
    "### SVR - linear:"
   ]
  },
  {
   "cell_type": "code",
   "execution_count": 35,
   "metadata": {
    "id": "7Pn41tdIOttB"
   },
   "outputs": [
    {
     "name": "stdout",
     "output_type": "stream",
     "text": [
      "Fitting 10 folds for each of 10 candidates, totalling 100 fits\n"
     ]
    },
    {
     "name": "stderr",
     "output_type": "stream",
     "text": [
      "[Parallel(n_jobs=-1)]: Using backend LokyBackend with 8 concurrent workers.\n",
      "[Parallel(n_jobs=-1)]: Done  25 tasks      | elapsed:   20.5s\n",
      "[Parallel(n_jobs=-1)]: Done 100 out of 100 | elapsed:  1.2min finished\n"
     ]
    },
    {
     "data": {
      "text/html": [
       "<div>\n",
       "<style scoped>\n",
       "    .dataframe tbody tr th:only-of-type {\n",
       "        vertical-align: middle;\n",
       "    }\n",
       "\n",
       "    .dataframe tbody tr th {\n",
       "        vertical-align: top;\n",
       "    }\n",
       "\n",
       "    .dataframe thead th {\n",
       "        text-align: right;\n",
       "    }\n",
       "</style>\n",
       "<table border=\"1\" class=\"dataframe\">\n",
       "  <thead>\n",
       "    <tr style=\"text-align: right;\">\n",
       "      <th></th>\n",
       "      <th>Data</th>\n",
       "      <th>Accuracy</th>\n",
       "      <th>R2</th>\n",
       "      <th>MAE</th>\n",
       "      <th>RMSE</th>\n",
       "      <th>PAE(0,0.5)</th>\n",
       "      <th>PAE(0,1)</th>\n",
       "      <th>PAE(0,2)</th>\n",
       "    </tr>\n",
       "  </thead>\n",
       "  <tbody>\n",
       "    <tr>\n",
       "      <th>0</th>\n",
       "      <td>Train</td>\n",
       "      <td>87.059856</td>\n",
       "      <td>-0.592052</td>\n",
       "      <td>0.809045</td>\n",
       "      <td>0.994222</td>\n",
       "      <td>0.367891</td>\n",
       "      <td>0.660192</td>\n",
       "      <td>0.963492</td>\n",
       "    </tr>\n",
       "    <tr>\n",
       "      <th>1</th>\n",
       "      <td>Test</td>\n",
       "      <td>86.669700</td>\n",
       "      <td>-0.651187</td>\n",
       "      <td>0.839423</td>\n",
       "      <td>1.024447</td>\n",
       "      <td>0.351731</td>\n",
       "      <td>0.620206</td>\n",
       "      <td>0.958840</td>\n",
       "    </tr>\n",
       "  </tbody>\n",
       "</table>\n",
       "</div>"
      ],
      "text/plain": [
       "    Data   Accuracy        R2       MAE      RMSE  PAE(0,0.5)  PAE(0,1)  \\\n",
       "0  Train  87.059856 -0.592052  0.809045  0.994222    0.367891  0.660192   \n",
       "1   Test  86.669700 -0.651187  0.839423  1.024447    0.351731  0.620206   \n",
       "\n",
       "   PAE(0,2)  \n",
       "0  0.963492  \n",
       "1  0.958840  "
      ]
     },
     "execution_count": 35,
     "metadata": {},
     "output_type": "execute_result"
    }
   ],
   "source": [
    "from sklearn.svm import SVR\n",
    "\n",
    "svr_l_params = {'kernel': ['linear'],\n",
    "                'gamma': [10, 1, 0.1, 0.01, 0.001],\n",
    "                'C': [0.1, 1, 10, 50]}\n",
    "\n",
    "X_train, X_test, y_train, y_test = train_test_split(no_outliers.drop('point', axis=1), \n",
    "                                                          no_outliers['point'], test_size=0.2, random_state=42)\n",
    "svr_linear_random = RandomizedSearchCV(estimator = SVR(), param_distributions = svr_l_params, \n",
    "                               n_iter = 10, cv = 10, verbose=2, random_state=42, \n",
    "                               n_jobs = -1, scoring='neg_mean_squared_error')\n",
    "svr_linear_random.fit(X_train, y_train)\n",
    "svr_linear_model = svr_linear_random.best_estimator_\n",
    "evaluate(y_test, svr_linear_model.predict(X_test), y_train, svr_linear_model.predict(X_train))"
   ]
  },
  {
   "cell_type": "markdown",
   "metadata": {
    "id": "hKVgjwklXexf"
   },
   "source": [
    "### SVR - RBF:"
   ]
  },
  {
   "cell_type": "code",
   "execution_count": 36,
   "metadata": {
    "id": "FtKWkYRaV3v6"
   },
   "outputs": [
    {
     "name": "stdout",
     "output_type": "stream",
     "text": [
      "Fitting 10 folds for each of 10 candidates, totalling 100 fits\n"
     ]
    },
    {
     "name": "stderr",
     "output_type": "stream",
     "text": [
      "[Parallel(n_jobs=-1)]: Using backend LokyBackend with 8 concurrent workers.\n",
      "[Parallel(n_jobs=-1)]: Done  25 tasks      | elapsed:   15.6s\n",
      "[Parallel(n_jobs=-1)]: Done 100 out of 100 | elapsed:  1.0min finished\n"
     ]
    },
    {
     "data": {
      "text/html": [
       "<div>\n",
       "<style scoped>\n",
       "    .dataframe tbody tr th:only-of-type {\n",
       "        vertical-align: middle;\n",
       "    }\n",
       "\n",
       "    .dataframe tbody tr th {\n",
       "        vertical-align: top;\n",
       "    }\n",
       "\n",
       "    .dataframe thead th {\n",
       "        text-align: right;\n",
       "    }\n",
       "</style>\n",
       "<table border=\"1\" class=\"dataframe\">\n",
       "  <thead>\n",
       "    <tr style=\"text-align: right;\">\n",
       "      <th></th>\n",
       "      <th>Data</th>\n",
       "      <th>Accuracy</th>\n",
       "      <th>R2</th>\n",
       "      <th>MAE</th>\n",
       "      <th>RMSE</th>\n",
       "      <th>PAE(0,0.5)</th>\n",
       "      <th>PAE(0,1)</th>\n",
       "      <th>PAE(0,2)</th>\n",
       "    </tr>\n",
       "  </thead>\n",
       "  <tbody>\n",
       "    <tr>\n",
       "      <th>0</th>\n",
       "      <td>Train</td>\n",
       "      <td>91.498215</td>\n",
       "      <td>0.312924</td>\n",
       "      <td>0.505145</td>\n",
       "      <td>0.653141</td>\n",
       "      <td>0.582729</td>\n",
       "      <td>0.867072</td>\n",
       "      <td>0.998362</td>\n",
       "    </tr>\n",
       "    <tr>\n",
       "      <th>1</th>\n",
       "      <td>Test</td>\n",
       "      <td>90.511667</td>\n",
       "      <td>0.224661</td>\n",
       "      <td>0.567190</td>\n",
       "      <td>0.702000</td>\n",
       "      <td>0.521048</td>\n",
       "      <td>0.838167</td>\n",
       "      <td>0.999065</td>\n",
       "    </tr>\n",
       "  </tbody>\n",
       "</table>\n",
       "</div>"
      ],
      "text/plain": [
       "    Data   Accuracy        R2       MAE      RMSE  PAE(0,0.5)  PAE(0,1)  \\\n",
       "0  Train  91.498215  0.312924  0.505145  0.653141    0.582729  0.867072   \n",
       "1   Test  90.511667  0.224661  0.567190  0.702000    0.521048  0.838167   \n",
       "\n",
       "   PAE(0,2)  \n",
       "0  0.998362  \n",
       "1  0.999065  "
      ]
     },
     "execution_count": 36,
     "metadata": {},
     "output_type": "execute_result"
    }
   ],
   "source": [
    "svr_r_params = {'kernel': ['rbf'],\n",
    "                'gamma': [10, 1, 0.1, 0.01, 0.001],\n",
    "                'C': [0.1, 1, 10, 50]}\n",
    "\n",
    "X_train, X_test, y_train, y_test = train_test_split(no_outliers.drop('point', axis=1), \n",
    "                                                          no_outliers['point'], test_size=0.2, random_state=42)\n",
    "svr_rbf_random = RandomizedSearchCV(estimator = SVR(), param_distributions = svr_r_params, \n",
    "                               n_iter = 10, cv = 10, verbose=2, random_state=42, \n",
    "                               n_jobs = -1, scoring='neg_mean_squared_error')\n",
    "svr_rbf_random.fit(X_train, y_train)\n",
    "svr_rbf_model = svr_rbf_random.best_estimator_\n",
    "evaluate(y_test, svr_rbf_model.predict(X_test), y_train, svr_rbf_model.predict(X_train))"
   ]
  },
  {
   "cell_type": "code",
   "execution_count": 37,
   "metadata": {},
   "outputs": [
    {
     "data": {
      "text/plain": [
       "{'kernel': 'rbf', 'gamma': 0.01, 'C': 1}"
      ]
     },
     "execution_count": 37,
     "metadata": {},
     "output_type": "execute_result"
    }
   ],
   "source": [
    "svr_rbf_random.best_params_"
   ]
  },
  {
   "cell_type": "markdown",
   "metadata": {
    "id": "OA9izaTDYiKi"
   },
   "source": [
    "### SVR - Poly:"
   ]
  },
  {
   "cell_type": "code",
   "execution_count": 38,
   "metadata": {
    "id": "n5ELGmsoYly3"
   },
   "outputs": [],
   "source": [
    "# svr_p_params = {'kernel': ['poly'],\n",
    "#                 'gamma': [10, 1, 0.1, 0.01, 0.001],\n",
    "#                 'C': [0.1, 1, 10]}\n",
    "\n",
    "X_train, X_test, y_train, y_test = train_test_split(no_outliers.drop('point', axis=1), \n",
    "                                                          no_outliers['point'], test_size=0.2, random_state=42)\n",
    "# svr_poly_random = RandomizedSearchCV(estimator = SVR(), param_distributions = svr_p_params, \n",
    "#                                n_iter = 10, cv = 10, verbose=2, random_state=42, \n",
    "#                                n_jobs = -1, scoring='neg_mean_squared_error')\n",
    "\n",
    "\n",
    "# svr_poly_random.fit(X_train, y_train)\n",
    "# svr_poly_model = svr_poly_random.best_estimator_\n",
    "\n",
    "# svr_poly_model = SVR(kernel = 'poly', gamma= 0.01, C= 1)\n",
    "# svr_poly_model.fit(X_train, y_train)\n",
    "# evaluate(y_test, svr_poly_model.predict(X_test), y_train, svr_poly_model.predict(X_train))"
   ]
  },
  {
   "cell_type": "markdown",
   "metadata": {
    "id": "UkEGD5PNRV5g"
   },
   "source": [
    "## KNN regressor:"
   ]
  },
  {
   "cell_type": "code",
   "execution_count": 39,
   "metadata": {
    "id": "93ZVHrqzRYoB"
   },
   "outputs": [
    {
     "name": "stdout",
     "output_type": "stream",
     "text": [
      "Fitting 10 folds for each of 10 candidates, totalling 100 fits\n"
     ]
    },
    {
     "name": "stderr",
     "output_type": "stream",
     "text": [
      "[Parallel(n_jobs=-1)]: Using backend LokyBackend with 8 concurrent workers.\n",
      "[Parallel(n_jobs=-1)]: Done  34 tasks      | elapsed:    0.8s\n",
      "[Parallel(n_jobs=-1)]: Done 100 out of 100 | elapsed:    2.2s finished\n"
     ]
    },
    {
     "data": {
      "text/html": [
       "<div>\n",
       "<style scoped>\n",
       "    .dataframe tbody tr th:only-of-type {\n",
       "        vertical-align: middle;\n",
       "    }\n",
       "\n",
       "    .dataframe tbody tr th {\n",
       "        vertical-align: top;\n",
       "    }\n",
       "\n",
       "    .dataframe thead th {\n",
       "        text-align: right;\n",
       "    }\n",
       "</style>\n",
       "<table border=\"1\" class=\"dataframe\">\n",
       "  <thead>\n",
       "    <tr style=\"text-align: right;\">\n",
       "      <th></th>\n",
       "      <th>Data</th>\n",
       "      <th>Accuracy</th>\n",
       "      <th>R2</th>\n",
       "      <th>MAE</th>\n",
       "      <th>RMSE</th>\n",
       "      <th>PAE(0,0.5)</th>\n",
       "      <th>PAE(0,1)</th>\n",
       "      <th>PAE(0,2)</th>\n",
       "    </tr>\n",
       "  </thead>\n",
       "  <tbody>\n",
       "    <tr>\n",
       "      <th>0</th>\n",
       "      <td>Train</td>\n",
       "      <td>100.000000</td>\n",
       "      <td>1.000000</td>\n",
       "      <td>0.000000</td>\n",
       "      <td>0.00000</td>\n",
       "      <td>1.000000</td>\n",
       "      <td>1.000000</td>\n",
       "      <td>1.000000</td>\n",
       "    </tr>\n",
       "    <tr>\n",
       "      <th>1</th>\n",
       "      <td>Test</td>\n",
       "      <td>90.072851</td>\n",
       "      <td>0.136399</td>\n",
       "      <td>0.600753</td>\n",
       "      <td>0.74088</td>\n",
       "      <td>0.482694</td>\n",
       "      <td>0.792329</td>\n",
       "      <td>0.998129</td>\n",
       "    </tr>\n",
       "  </tbody>\n",
       "</table>\n",
       "</div>"
      ],
      "text/plain": [
       "    Data    Accuracy        R2       MAE     RMSE  PAE(0,0.5)  PAE(0,1)  \\\n",
       "0  Train  100.000000  1.000000  0.000000  0.00000    1.000000  1.000000   \n",
       "1   Test   90.072851  0.136399  0.600753  0.74088    0.482694  0.792329   \n",
       "\n",
       "   PAE(0,2)  \n",
       "0  1.000000  \n",
       "1  0.998129  "
      ]
     },
     "execution_count": 39,
     "metadata": {},
     "output_type": "execute_result"
    }
   ],
   "source": [
    "from sklearn.neighbors import KNeighborsRegressor\n",
    "knn_params = {  'n_neighbors': [int(x) for x in np.linspace(2, 50, num = 20)],\n",
    "                'weights': ['uniform', 'distance'],\n",
    "                'algorithm' : ['auto', 'ball_tree', 'kd_tree', 'brute']}\n",
    "\n",
    "X_train, X_test, y_train, y_test = train_test_split(no_outliers.drop('point', axis=1), \n",
    "                                                          no_outliers['point'], test_size=0.2, random_state=42)\n",
    "knn_random = RandomizedSearchCV(estimator = KNeighborsRegressor(), param_distributions = knn_params, \n",
    "                               n_iter = 10, cv = 10, verbose=2, random_state=42, \n",
    "                               n_jobs = -1, scoring='neg_mean_squared_error')\n",
    "knn_random.fit(X_train, y_train)\n",
    "knn_model = knn_random.best_estimator_\n",
    "evaluate(y_test, knn_model.predict(X_test), y_train, knn_model.predict(X_train))"
   ]
  },
  {
   "cell_type": "markdown",
   "metadata": {
    "id": "McJakNW0cGHU"
   },
   "source": [
    "## Util:"
   ]
  },
  {
   "cell_type": "code",
   "execution_count": 40,
   "metadata": {
    "id": "4SSjToV3cCZ9"
   },
   "outputs": [],
   "source": [
    "upper_lim = movie_df['point'].quantile(.96)\n",
    "lower_lim = movie_df['point'].quantile(.04)\n",
    "no_outliers = movie_df[(movie_df['point'] < upper_lim) & (movie_df['point'] > lower_lim)]"
   ]
  },
  {
   "cell_type": "markdown",
   "metadata": {
    "id": "zSdLmrfhbPd-"
   },
   "source": [
    "## XGboost:"
   ]
  },
  {
   "cell_type": "code",
   "execution_count": 49,
   "metadata": {
    "id": "B3ax5hnX0kOW"
   },
   "outputs": [
    {
     "name": "stdout",
     "output_type": "stream",
     "text": [
      "Fitting 10 folds for each of 25 candidates, totalling 250 fits\n"
     ]
    },
    {
     "name": "stderr",
     "output_type": "stream",
     "text": [
      "[Parallel(n_jobs=-1)]: Using backend LokyBackend with 8 concurrent workers.\n",
      "[Parallel(n_jobs=-1)]: Done  25 tasks      | elapsed:   11.3s\n",
      "[Parallel(n_jobs=-1)]: Done 146 tasks      | elapsed:  1.6min\n",
      "[Parallel(n_jobs=-1)]: Done 250 out of 250 | elapsed:  2.9min finished\n"
     ]
    },
    {
     "name": "stdout",
     "output_type": "stream",
     "text": [
      "[09:19:19] WARNING: src/objective/regression_obj.cu:152: reg:linear is now deprecated in favor of reg:squarederror.\n"
     ]
    }
   ],
   "source": [
    "import xgboost as xgb\n",
    "\n",
    "data_dmatrix = xgb.DMatrix(data=no_outliers.drop('point', axis=1),label=no_outliers['point'])\n",
    "X_train, X_test, y_train, y_test = train_test_split(no_outliers.drop('point', axis=1), \n",
    "                                                          no_outliers['point'], test_size=0.2, random_state=42)\n",
    "\n",
    "xgb_params = {  'n_estimators': [int(x) for x in np.linspace(10, 1000, num = 40)],\n",
    "                'max_depth': [int(x) for x in np.linspace(4, 40, num = 10)],\n",
    "                'learning_rate ' : [0.0001, 0.001, 0.01, 0.1, 1.0],\n",
    "                'colsample_bytree' : [0.4, 0.3, 0.2, 0.1],\n",
    "                'subsample' : [0.5, 0.3, 1]}\n",
    "\n",
    "\n",
    "xgb_random = RandomizedSearchCV(estimator = xgb.XGBRegressor(), param_distributions = xgb_params, \n",
    "                               n_iter = 25, cv = 10, verbose=2, random_state=42, \n",
    "                               n_jobs = -1, scoring='neg_mean_squared_error')\n",
    "\n",
    "xgb_random.fit(X_train, y_train)\n",
    "xgb_model = xgb_random.best_estimator_"
   ]
  },
  {
   "cell_type": "code",
   "execution_count": 50,
   "metadata": {
    "id": "ywpbIxRP-p_2"
   },
   "outputs": [
    {
     "data": {
      "text/html": [
       "<div>\n",
       "<style scoped>\n",
       "    .dataframe tbody tr th:only-of-type {\n",
       "        vertical-align: middle;\n",
       "    }\n",
       "\n",
       "    .dataframe tbody tr th {\n",
       "        vertical-align: top;\n",
       "    }\n",
       "\n",
       "    .dataframe thead th {\n",
       "        text-align: right;\n",
       "    }\n",
       "</style>\n",
       "<table border=\"1\" class=\"dataframe\">\n",
       "  <thead>\n",
       "    <tr style=\"text-align: right;\">\n",
       "      <th></th>\n",
       "      <th>Data</th>\n",
       "      <th>Accuracy</th>\n",
       "      <th>R2</th>\n",
       "      <th>MAE</th>\n",
       "      <th>RMSE</th>\n",
       "      <th>PAE(0,0.5)</th>\n",
       "      <th>PAE(0,1)</th>\n",
       "      <th>PAE(0,2)</th>\n",
       "    </tr>\n",
       "  </thead>\n",
       "  <tbody>\n",
       "    <tr>\n",
       "      <th>0</th>\n",
       "      <td>Train</td>\n",
       "      <td>92.120776</td>\n",
       "      <td>0.438043</td>\n",
       "      <td>0.471809</td>\n",
       "      <td>0.590686</td>\n",
       "      <td>0.612450</td>\n",
       "      <td>0.902410</td>\n",
       "      <td>0.999766</td>\n",
       "    </tr>\n",
       "    <tr>\n",
       "      <th>1</th>\n",
       "      <td>Test</td>\n",
       "      <td>90.712709</td>\n",
       "      <td>0.261838</td>\n",
       "      <td>0.559423</td>\n",
       "      <td>0.684963</td>\n",
       "      <td>0.513564</td>\n",
       "      <td>0.849392</td>\n",
       "      <td>0.998129</td>\n",
       "    </tr>\n",
       "  </tbody>\n",
       "</table>\n",
       "</div>"
      ],
      "text/plain": [
       "    Data   Accuracy        R2       MAE      RMSE  PAE(0,0.5)  PAE(0,1)  \\\n",
       "0  Train  92.120776  0.438043  0.471809  0.590686    0.612450  0.902410   \n",
       "1   Test  90.712709  0.261838  0.559423  0.684963    0.513564  0.849392   \n",
       "\n",
       "   PAE(0,2)  \n",
       "0  0.999766  \n",
       "1  0.998129  "
      ]
     },
     "execution_count": 50,
     "metadata": {},
     "output_type": "execute_result"
    }
   ],
   "source": [
    "evaluate(y_test, xgb_model.predict(X_test), y_train, xgb_model.predict(X_train))"
   ]
  },
  {
   "cell_type": "code",
   "execution_count": 43,
   "metadata": {
    "id": "wYtLTB8dAAya"
   },
   "outputs": [],
   "source": [
    "# xgb_random.best_params_\n",
    "new_params = {'colsample_bytree': 0.4, 'learning_rate ': 1.0,\n",
    "              'max_depth': 4, 'subsample': 1}\n",
    "cv_results = xgb.cv(dtrain=data_dmatrix, params=new_params, nfold=10,\n",
    "      num_boost_round=50,early_stopping_rounds=10,metrics=[\"rmse\", \"mae\"], as_pandas=True, seed=123)"
   ]
  },
  {
   "cell_type": "code",
   "execution_count": 44,
   "metadata": {
    "id": "__9YciDbAtjD"
   },
   "outputs": [
    {
     "data": {
      "text/html": [
       "<div>\n",
       "<style scoped>\n",
       "    .dataframe tbody tr th:only-of-type {\n",
       "        vertical-align: middle;\n",
       "    }\n",
       "\n",
       "    .dataframe tbody tr th {\n",
       "        vertical-align: top;\n",
       "    }\n",
       "\n",
       "    .dataframe thead th {\n",
       "        text-align: right;\n",
       "    }\n",
       "</style>\n",
       "<table border=\"1\" class=\"dataframe\">\n",
       "  <thead>\n",
       "    <tr style=\"text-align: right;\">\n",
       "      <th></th>\n",
       "      <th>train-mae-mean</th>\n",
       "      <th>train-mae-std</th>\n",
       "      <th>train-rmse-mean</th>\n",
       "      <th>train-rmse-std</th>\n",
       "      <th>test-mae-mean</th>\n",
       "      <th>test-mae-std</th>\n",
       "      <th>test-rmse-mean</th>\n",
       "      <th>test-rmse-std</th>\n",
       "    </tr>\n",
       "  </thead>\n",
       "  <tbody>\n",
       "    <tr>\n",
       "      <th>24</th>\n",
       "      <td>0.509905</td>\n",
       "      <td>0.002154</td>\n",
       "      <td>0.633271</td>\n",
       "      <td>0.002255</td>\n",
       "      <td>0.549105</td>\n",
       "      <td>0.017383</td>\n",
       "      <td>0.681246</td>\n",
       "      <td>0.016753</td>\n",
       "    </tr>\n",
       "  </tbody>\n",
       "</table>\n",
       "</div>"
      ],
      "text/plain": [
       "    train-mae-mean  train-mae-std  train-rmse-mean  train-rmse-std  \\\n",
       "24        0.509905       0.002154         0.633271        0.002255   \n",
       "\n",
       "    test-mae-mean  test-mae-std  test-rmse-mean  test-rmse-std  \n",
       "24       0.549105      0.017383        0.681246       0.016753  "
      ]
     },
     "execution_count": 44,
     "metadata": {},
     "output_type": "execute_result"
    }
   ],
   "source": [
    "cv_results.tail(1)"
   ]
  },
  {
   "cell_type": "code",
   "execution_count": 45,
   "metadata": {
    "id": "vBVw86R8B3T0"
   },
   "outputs": [],
   "source": [
    "# print(\"Train Accuracy: \", (0.571710 / cv_results.tail(1)['train-mae-mean'].values[0]) * 90.466982)\n",
    "# print(\"Test Accuracy: \", (0.572226 / cv_results.tail(1)['test-mae-mean'].values[0]) * 90.503220)"
   ]
  },
  {
   "cell_type": "markdown",
   "metadata": {
    "id": "do5jfXy1hLvx"
   },
   "source": [
    "## Gradient Boost:"
   ]
  },
  {
   "cell_type": "code",
   "execution_count": 46,
   "metadata": {
    "id": "-mQLyE5nhQHr"
   },
   "outputs": [
    {
     "name": "stdout",
     "output_type": "stream",
     "text": [
      "Fitting 10 folds for each of 30 candidates, totalling 300 fits\n"
     ]
    },
    {
     "name": "stderr",
     "output_type": "stream",
     "text": [
      "[Parallel(n_jobs=-1)]: Using backend LokyBackend with 8 concurrent workers.\n",
      "[Parallel(n_jobs=-1)]: Done  25 tasks      | elapsed:    4.1s\n",
      "[Parallel(n_jobs=-1)]: Done 146 tasks      | elapsed:   25.0s\n",
      "[Parallel(n_jobs=-1)]: Done 300 out of 300 | elapsed:   48.9s finished\n"
     ]
    }
   ],
   "source": [
    "from sklearn.ensemble import GradientBoostingRegressor\n",
    "X_train, X_test, y_train, y_test = train_test_split(no_outliers.drop('point', axis=1), \n",
    "                                                          no_outliers['point'], test_size=0.2, random_state=42)\n",
    "\n",
    "gb_params = {  'n_estimators': [int(x) for x in np.linspace(10, 100, num = 20)],\n",
    "                'max_depth': [int(x) for x in np.linspace(3, 25, num = 10)],\n",
    "                'learning_rate' : [0.5, 0.04, 0.05, 0.01],\n",
    "                'min_samples_split' : [1, 2, 5, 10],\n",
    "                'min_samples_leaf' : [5, 8, 10],\n",
    "                'max_features' : [int(x) for x in np.linspace(1, X_train.shape[1], num = 20)]}\n",
    "\n",
    "gb_random = RandomizedSearchCV(estimator = GradientBoostingRegressor(), param_distributions = gb_params, \n",
    "                               n_iter = 30, cv = 10, verbose=2, random_state=42, \n",
    "                               n_jobs = -1, scoring='neg_mean_squared_error')\n",
    "\n",
    "gb_random.fit(X_train, y_train)\n",
    "gb_model = gb_random.best_estimator_"
   ]
  },
  {
   "cell_type": "code",
   "execution_count": 47,
   "metadata": {
    "id": "QWcgYYu7mZIz"
   },
   "outputs": [
    {
     "data": {
      "text/plain": [
       "{'n_estimators': 81,\n",
       " 'min_samples_split': 5,\n",
       " 'min_samples_leaf': 10,\n",
       " 'max_features': 22,\n",
       " 'max_depth': 7,\n",
       " 'learning_rate': 0.04}"
      ]
     },
     "execution_count": 47,
     "metadata": {},
     "output_type": "execute_result"
    }
   ],
   "source": [
    "gb_random.best_params_"
   ]
  },
  {
   "cell_type": "code",
   "execution_count": 48,
   "metadata": {
    "id": "JkgVSU3ZjJly"
   },
   "outputs": [
    {
     "data": {
      "text/html": [
       "<div>\n",
       "<style scoped>\n",
       "    .dataframe tbody tr th:only-of-type {\n",
       "        vertical-align: middle;\n",
       "    }\n",
       "\n",
       "    .dataframe tbody tr th {\n",
       "        vertical-align: top;\n",
       "    }\n",
       "\n",
       "    .dataframe thead th {\n",
       "        text-align: right;\n",
       "    }\n",
       "</style>\n",
       "<table border=\"1\" class=\"dataframe\">\n",
       "  <thead>\n",
       "    <tr style=\"text-align: right;\">\n",
       "      <th></th>\n",
       "      <th>Data</th>\n",
       "      <th>Accuracy</th>\n",
       "      <th>R2</th>\n",
       "      <th>MAE</th>\n",
       "      <th>RMSE</th>\n",
       "      <th>PAE(0,0.5)</th>\n",
       "      <th>PAE(0,1)</th>\n",
       "      <th>PAE(0,2)</th>\n",
       "    </tr>\n",
       "  </thead>\n",
       "  <tbody>\n",
       "    <tr>\n",
       "      <th>0</th>\n",
       "      <td>Train</td>\n",
       "      <td>92.411490</td>\n",
       "      <td>0.480301</td>\n",
       "      <td>0.453084</td>\n",
       "      <td>0.568043</td>\n",
       "      <td>0.631875</td>\n",
       "      <td>0.916452</td>\n",
       "      <td>0.999766</td>\n",
       "    </tr>\n",
       "    <tr>\n",
       "      <th>1</th>\n",
       "      <td>Test</td>\n",
       "      <td>90.777012</td>\n",
       "      <td>0.270418</td>\n",
       "      <td>0.555067</td>\n",
       "      <td>0.680971</td>\n",
       "      <td>0.517306</td>\n",
       "      <td>0.858746</td>\n",
       "      <td>0.999065</td>\n",
       "    </tr>\n",
       "  </tbody>\n",
       "</table>\n",
       "</div>"
      ],
      "text/plain": [
       "    Data   Accuracy        R2       MAE      RMSE  PAE(0,0.5)  PAE(0,1)  \\\n",
       "0  Train  92.411490  0.480301  0.453084  0.568043    0.631875  0.916452   \n",
       "1   Test  90.777012  0.270418  0.555067  0.680971    0.517306  0.858746   \n",
       "\n",
       "   PAE(0,2)  \n",
       "0  0.999766  \n",
       "1  0.999065  "
      ]
     },
     "execution_count": 48,
     "metadata": {},
     "output_type": "execute_result"
    }
   ],
   "source": [
    "evaluate(y_test, gb_model.predict(X_test), y_train, gb_model.predict(X_train))"
   ]
  }
 ],
 "metadata": {
  "colab": {
   "collapsed_sections": [
    "gZahqOxcmL_E",
    "N7NYSLSyqX-M"
   ],
   "name": "Rating Analysis.ipynb",
   "provenance": []
  },
  "kernelspec": {
   "display_name": "Python 3",
   "language": "python",
   "name": "python3"
  },
  "language_info": {
   "codemirror_mode": {
    "name": "ipython",
    "version": 3
   },
   "file_extension": ".py",
   "mimetype": "text/x-python",
   "name": "python",
   "nbconvert_exporter": "python",
   "pygments_lexer": "ipython3",
   "version": "3.7.6"
  }
 },
 "nbformat": 4,
 "nbformat_minor": 4
}
